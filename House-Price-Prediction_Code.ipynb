{
 "cells": [
  {
   "cell_type": "code",
   "execution_count": 326,
   "id": "f3358fe2",
   "metadata": {},
   "outputs": [
    {
     "name": "stdout",
     "output_type": "stream",
     "text": [
      "Requirement already satisfied: numpy in c:\\users\\stefano\\anaconda3\\lib\\site-packages (1.21.5)\n",
      "Requirement already satisfied: pandas in c:\\users\\stefano\\anaconda3\\lib\\site-packages (1.4.2)\n",
      "Requirement already satisfied: python-dateutil>=2.8.1 in c:\\users\\stefano\\anaconda3\\lib\\site-packages (from pandas) (2.8.2)\n",
      "Requirement already satisfied: pytz>=2020.1 in c:\\users\\stefano\\anaconda3\\lib\\site-packages (from pandas) (2021.3)\n",
      "Requirement already satisfied: six>=1.5 in c:\\users\\stefano\\anaconda3\\lib\\site-packages (from python-dateutil>=2.8.1->pandas) (1.16.0)\n",
      "Note: you may need to restart the kernel to use updated packages.\n"
     ]
    }
   ],
   "source": [
    "pip install numpy pandas"
   ]
  },
  {
   "cell_type": "code",
   "execution_count": 327,
   "id": "5fd18c0c",
   "metadata": {},
   "outputs": [
    {
     "name": "stdout",
     "output_type": "stream",
     "text": [
      "Requirement already satisfied: matplotlib in c:\\users\\stefano\\anaconda3\\lib\\site-packages (3.5.1)\n",
      "Requirement already satisfied: seaborn in c:\\users\\stefano\\anaconda3\\lib\\site-packages (0.11.2)\n",
      "Requirement already satisfied: scikit-learn in c:\\users\\stefano\\anaconda3\\lib\\site-packages (1.0.2)\n",
      "Requirement already satisfied: packaging>=20.0 in c:\\users\\stefano\\anaconda3\\lib\\site-packages (from matplotlib) (21.3)\n",
      "Requirement already satisfied: pyparsing>=2.2.1 in c:\\users\\stefano\\anaconda3\\lib\\site-packages (from matplotlib) (3.0.4)\n",
      "Requirement already satisfied: kiwisolver>=1.0.1 in c:\\users\\stefano\\anaconda3\\lib\\site-packages (from matplotlib) (1.3.2)\n",
      "Requirement already satisfied: python-dateutil>=2.7 in c:\\users\\stefano\\anaconda3\\lib\\site-packages (from matplotlib) (2.8.2)\n",
      "Requirement already satisfied: numpy>=1.17 in c:\\users\\stefano\\anaconda3\\lib\\site-packages (from matplotlib) (1.21.5)\n",
      "Requirement already satisfied: fonttools>=4.22.0 in c:\\users\\stefano\\anaconda3\\lib\\site-packages (from matplotlib) (4.25.0)\n",
      "Requirement already satisfied: cycler>=0.10 in c:\\users\\stefano\\anaconda3\\lib\\site-packages (from matplotlib) (0.11.0)\n",
      "Requirement already satisfied: pillow>=6.2.0 in c:\\users\\stefano\\anaconda3\\lib\\site-packages (from matplotlib) (9.0.1)\n",
      "Requirement already satisfied: pandas>=0.23 in c:\\users\\stefano\\anaconda3\\lib\\site-packages (from seaborn) (1.4.2)\n",
      "Requirement already satisfied: scipy>=1.0 in c:\\users\\stefano\\anaconda3\\lib\\site-packages (from seaborn) (1.7.3)\n",
      "Requirement already satisfied: joblib>=0.11 in c:\\users\\stefano\\anaconda3\\lib\\site-packages (from scikit-learn) (1.1.0)\n",
      "Requirement already satisfied: threadpoolctl>=2.0.0 in c:\\users\\stefano\\anaconda3\\lib\\site-packages (from scikit-learn) (2.2.0)\n",
      "Requirement already satisfied: pytz>=2020.1 in c:\\users\\stefano\\anaconda3\\lib\\site-packages (from pandas>=0.23->seaborn) (2021.3)\n",
      "Requirement already satisfied: six>=1.5 in c:\\users\\stefano\\anaconda3\\lib\\site-packages (from python-dateutil>=2.7->matplotlib) (1.16.0)\n",
      "Note: you may need to restart the kernel to use updated packages.\n"
     ]
    }
   ],
   "source": [
    "pip install matplotlib seaborn scikit-learn"
   ]
  },
  {
   "cell_type": "code",
   "execution_count": 328,
   "id": "79951d12",
   "metadata": {},
   "outputs": [
    {
     "name": "stdout",
     "output_type": "stream",
     "text": [
      "Requirement already satisfied: geopy in c:\\users\\stefano\\anaconda3\\lib\\site-packages (2.3.0)\n",
      "Requirement already satisfied: geographiclib<3,>=1.52 in c:\\users\\stefano\\anaconda3\\lib\\site-packages (from geopy) (2.0)\n",
      "Note: you may need to restart the kernel to use updated packages.\n"
     ]
    }
   ],
   "source": [
    "pip install geopy"
   ]
  },
  {
   "cell_type": "code",
   "execution_count": 329,
   "id": "1bfa5d14",
   "metadata": {},
   "outputs": [],
   "source": [
    "import pandas as pd"
   ]
  },
  {
   "cell_type": "code",
   "execution_count": 330,
   "id": "eee0624e",
   "metadata": {},
   "outputs": [],
   "source": [
    "import numpy as np\n",
    "import matplotlib.pyplot as plt\n",
    "import seaborn as sns\n",
    "from sklearn.model_selection import train_test_split\n",
    "from sklearn.model_selection import GridSearchCV, KFold\n",
    "import geopy\n",
    "from geopy.distance import distance"
   ]
  },
  {
   "cell_type": "code",
   "execution_count": 331,
   "id": "86288c74",
   "metadata": {},
   "outputs": [],
   "source": [
    "import warnings\n",
    "warnings.filterwarnings('ignore')"
   ]
  },
  {
   "cell_type": "code",
   "execution_count": 332,
   "id": "53b64631",
   "metadata": {},
   "outputs": [],
   "source": [
    "train=pd.read_csv('train.csv')"
   ]
  },
  {
   "cell_type": "markdown",
   "id": "e587b245",
   "metadata": {},
   "source": [
    "# Data exploration"
   ]
  },
  {
   "cell_type": "code",
   "execution_count": 333,
   "id": "1c54ed93",
   "metadata": {
    "scrolled": true
   },
   "outputs": [
    {
     "data": {
      "text/html": [
       "<div>\n",
       "<style scoped>\n",
       "    .dataframe tbody tr th:only-of-type {\n",
       "        vertical-align: middle;\n",
       "    }\n",
       "\n",
       "    .dataframe tbody tr th {\n",
       "        vertical-align: top;\n",
       "    }\n",
       "\n",
       "    .dataframe thead th {\n",
       "        text-align: right;\n",
       "    }\n",
       "</style>\n",
       "<table border=\"1\" class=\"dataframe\">\n",
       "  <thead>\n",
       "    <tr style=\"text-align: right;\">\n",
       "      <th></th>\n",
       "      <th>id</th>\n",
       "      <th>price</th>\n",
       "      <th>balcony</th>\n",
       "      <th>conditions</th>\n",
       "      <th>construction_year</th>\n",
       "      <th>latitude</th>\n",
       "      <th>longitude</th>\n",
       "      <th>energy_efficiency</th>\n",
       "      <th>expenses</th>\n",
       "      <th>floor</th>\n",
       "      <th>garden</th>\n",
       "      <th>n_bathrooms</th>\n",
       "      <th>elevator</th>\n",
       "      <th>total_floors</th>\n",
       "      <th>n_rooms</th>\n",
       "      <th>proximity_to_center</th>\n",
       "      <th>surface</th>\n",
       "    </tr>\n",
       "  </thead>\n",
       "  <tbody>\n",
       "    <tr>\n",
       "      <th>0</th>\n",
       "      <td>10461</td>\n",
       "      <td>60000</td>\n",
       "      <td>True</td>\n",
       "      <td>Buono stato / Abitabile</td>\n",
       "      <td>1980.0</td>\n",
       "      <td>41.901300</td>\n",
       "      <td>12.700000</td>\n",
       "      <td>175.00</td>\n",
       "      <td>30.0</td>\n",
       "      <td>2.0</td>\n",
       "      <td>NaN</td>\n",
       "      <td>1.0</td>\n",
       "      <td>NaN</td>\n",
       "      <td>3.0</td>\n",
       "      <td>1.0</td>\n",
       "      <td>1.00000</td>\n",
       "      <td>35.0</td>\n",
       "    </tr>\n",
       "    <tr>\n",
       "      <th>1</th>\n",
       "      <td>51304</td>\n",
       "      <td>900000</td>\n",
       "      <td>NaN</td>\n",
       "      <td>Buono stato / Abitabile</td>\n",
       "      <td>NaN</td>\n",
       "      <td>41.907017</td>\n",
       "      <td>12.481311</td>\n",
       "      <td>NaN</td>\n",
       "      <td>NaN</td>\n",
       "      <td>3.0</td>\n",
       "      <td>NaN</td>\n",
       "      <td>1.0</td>\n",
       "      <td>1.0</td>\n",
       "      <td>NaN</td>\n",
       "      <td>3.0</td>\n",
       "      <td>1.00000</td>\n",
       "      <td>131.0</td>\n",
       "    </tr>\n",
       "    <tr>\n",
       "      <th>2</th>\n",
       "      <td>33032</td>\n",
       "      <td>33000</td>\n",
       "      <td>NaN</td>\n",
       "      <td>Buono stato / Abitabile</td>\n",
       "      <td>1960.0</td>\n",
       "      <td>41.976500</td>\n",
       "      <td>12.440500</td>\n",
       "      <td>204.20</td>\n",
       "      <td>30.0</td>\n",
       "      <td>4.0</td>\n",
       "      <td>NaN</td>\n",
       "      <td>1.0</td>\n",
       "      <td>NaN</td>\n",
       "      <td>4.0</td>\n",
       "      <td>1.0</td>\n",
       "      <td>1.00000</td>\n",
       "      <td>16.0</td>\n",
       "    </tr>\n",
       "    <tr>\n",
       "      <th>3</th>\n",
       "      <td>62281</td>\n",
       "      <td>166000</td>\n",
       "      <td>NaN</td>\n",
       "      <td>Ottimo / Ristrutturato</td>\n",
       "      <td>NaN</td>\n",
       "      <td>45.484800</td>\n",
       "      <td>12.198200</td>\n",
       "      <td>175.00</td>\n",
       "      <td>NaN</td>\n",
       "      <td>1.0</td>\n",
       "      <td>True</td>\n",
       "      <td>1.0</td>\n",
       "      <td>NaN</td>\n",
       "      <td>1.0</td>\n",
       "      <td>2.0</td>\n",
       "      <td>0.99205</td>\n",
       "      <td>100.0</td>\n",
       "    </tr>\n",
       "    <tr>\n",
       "      <th>4</th>\n",
       "      <td>45681</td>\n",
       "      <td>410000</td>\n",
       "      <td>True</td>\n",
       "      <td>Buono stato / Abitabile</td>\n",
       "      <td>NaN</td>\n",
       "      <td>45.424480</td>\n",
       "      <td>12.328622</td>\n",
       "      <td>65.91</td>\n",
       "      <td>NaN</td>\n",
       "      <td>3.0</td>\n",
       "      <td>NaN</td>\n",
       "      <td>2.0</td>\n",
       "      <td>1.0</td>\n",
       "      <td>NaN</td>\n",
       "      <td>3.0</td>\n",
       "      <td>1.00000</td>\n",
       "      <td>90.0</td>\n",
       "    </tr>\n",
       "    <tr>\n",
       "      <th>...</th>\n",
       "      <td>...</td>\n",
       "      <td>...</td>\n",
       "      <td>...</td>\n",
       "      <td>...</td>\n",
       "      <td>...</td>\n",
       "      <td>...</td>\n",
       "      <td>...</td>\n",
       "      <td>...</td>\n",
       "      <td>...</td>\n",
       "      <td>...</td>\n",
       "      <td>...</td>\n",
       "      <td>...</td>\n",
       "      <td>...</td>\n",
       "      <td>...</td>\n",
       "      <td>...</td>\n",
       "      <td>...</td>\n",
       "      <td>...</td>\n",
       "    </tr>\n",
       "    <tr>\n",
       "      <th>46307</th>\n",
       "      <td>33085</td>\n",
       "      <td>329999</td>\n",
       "      <td>True</td>\n",
       "      <td>Buono stato / Abitabile</td>\n",
       "      <td>1929.0</td>\n",
       "      <td>41.923500</td>\n",
       "      <td>12.446100</td>\n",
       "      <td>175.00</td>\n",
       "      <td>35.0</td>\n",
       "      <td>3.0</td>\n",
       "      <td>NaN</td>\n",
       "      <td>1.0</td>\n",
       "      <td>NaN</td>\n",
       "      <td>4.0</td>\n",
       "      <td>3.0</td>\n",
       "      <td>1.00000</td>\n",
       "      <td>88.0</td>\n",
       "    </tr>\n",
       "    <tr>\n",
       "      <th>46308</th>\n",
       "      <td>17403</td>\n",
       "      <td>599000</td>\n",
       "      <td>True</td>\n",
       "      <td>Da ristrutturare</td>\n",
       "      <td>1920.0</td>\n",
       "      <td>41.916743</td>\n",
       "      <td>12.454925</td>\n",
       "      <td>NaN</td>\n",
       "      <td>170.0</td>\n",
       "      <td>6.0</td>\n",
       "      <td>NaN</td>\n",
       "      <td>2.0</td>\n",
       "      <td>1.0</td>\n",
       "      <td>NaN</td>\n",
       "      <td>5.0</td>\n",
       "      <td>1.00000</td>\n",
       "      <td>189.0</td>\n",
       "    </tr>\n",
       "    <tr>\n",
       "      <th>46309</th>\n",
       "      <td>33332</td>\n",
       "      <td>549000</td>\n",
       "      <td>True</td>\n",
       "      <td>Buono stato / Abitabile</td>\n",
       "      <td>NaN</td>\n",
       "      <td>45.454701</td>\n",
       "      <td>9.242711</td>\n",
       "      <td>NaN</td>\n",
       "      <td>NaN</td>\n",
       "      <td>NaN</td>\n",
       "      <td>NaN</td>\n",
       "      <td>2.0</td>\n",
       "      <td>1.0</td>\n",
       "      <td>NaN</td>\n",
       "      <td>3.0</td>\n",
       "      <td>1.00000</td>\n",
       "      <td>140.0</td>\n",
       "    </tr>\n",
       "    <tr>\n",
       "      <th>46310</th>\n",
       "      <td>63367</td>\n",
       "      <td>189000</td>\n",
       "      <td>True</td>\n",
       "      <td>Buono stato / Abitabile</td>\n",
       "      <td>1965.0</td>\n",
       "      <td>45.445605</td>\n",
       "      <td>9.245942</td>\n",
       "      <td>NaN</td>\n",
       "      <td>150.0</td>\n",
       "      <td>-1.0</td>\n",
       "      <td>True</td>\n",
       "      <td>1.0</td>\n",
       "      <td>1.0</td>\n",
       "      <td>NaN</td>\n",
       "      <td>3.0</td>\n",
       "      <td>1.00000</td>\n",
       "      <td>70.0</td>\n",
       "    </tr>\n",
       "    <tr>\n",
       "      <th>46311</th>\n",
       "      <td>27322</td>\n",
       "      <td>355000</td>\n",
       "      <td>True</td>\n",
       "      <td>Ottimo / Ristrutturato</td>\n",
       "      <td>1970.0</td>\n",
       "      <td>41.877000</td>\n",
       "      <td>12.431400</td>\n",
       "      <td>175.00</td>\n",
       "      <td>100.0</td>\n",
       "      <td>1.0</td>\n",
       "      <td>NaN</td>\n",
       "      <td>1.0</td>\n",
       "      <td>1.0</td>\n",
       "      <td>5.0</td>\n",
       "      <td>4.0</td>\n",
       "      <td>1.00000</td>\n",
       "      <td>101.0</td>\n",
       "    </tr>\n",
       "  </tbody>\n",
       "</table>\n",
       "<p>46312 rows × 17 columns</p>\n",
       "</div>"
      ],
      "text/plain": [
       "          id   price balcony               conditions  construction_year  \\\n",
       "0      10461   60000    True  Buono stato / Abitabile             1980.0   \n",
       "1      51304  900000     NaN  Buono stato / Abitabile                NaN   \n",
       "2      33032   33000     NaN  Buono stato / Abitabile             1960.0   \n",
       "3      62281  166000     NaN   Ottimo / Ristrutturato                NaN   \n",
       "4      45681  410000    True  Buono stato / Abitabile                NaN   \n",
       "...      ...     ...     ...                      ...                ...   \n",
       "46307  33085  329999    True  Buono stato / Abitabile             1929.0   \n",
       "46308  17403  599000    True         Da ristrutturare             1920.0   \n",
       "46309  33332  549000    True  Buono stato / Abitabile                NaN   \n",
       "46310  63367  189000    True  Buono stato / Abitabile             1965.0   \n",
       "46311  27322  355000    True   Ottimo / Ristrutturato             1970.0   \n",
       "\n",
       "        latitude  longitude  energy_efficiency  expenses  floor garden  \\\n",
       "0      41.901300  12.700000             175.00      30.0    2.0    NaN   \n",
       "1      41.907017  12.481311                NaN       NaN    3.0    NaN   \n",
       "2      41.976500  12.440500             204.20      30.0    4.0    NaN   \n",
       "3      45.484800  12.198200             175.00       NaN    1.0   True   \n",
       "4      45.424480  12.328622              65.91       NaN    3.0    NaN   \n",
       "...          ...        ...                ...       ...    ...    ...   \n",
       "46307  41.923500  12.446100             175.00      35.0    3.0    NaN   \n",
       "46308  41.916743  12.454925                NaN     170.0    6.0    NaN   \n",
       "46309  45.454701   9.242711                NaN       NaN    NaN    NaN   \n",
       "46310  45.445605   9.245942                NaN     150.0   -1.0   True   \n",
       "46311  41.877000  12.431400             175.00     100.0    1.0    NaN   \n",
       "\n",
       "       n_bathrooms  elevator  total_floors  n_rooms  proximity_to_center  \\\n",
       "0              1.0       NaN           3.0      1.0              1.00000   \n",
       "1              1.0       1.0           NaN      3.0              1.00000   \n",
       "2              1.0       NaN           4.0      1.0              1.00000   \n",
       "3              1.0       NaN           1.0      2.0              0.99205   \n",
       "4              2.0       1.0           NaN      3.0              1.00000   \n",
       "...            ...       ...           ...      ...                  ...   \n",
       "46307          1.0       NaN           4.0      3.0              1.00000   \n",
       "46308          2.0       1.0           NaN      5.0              1.00000   \n",
       "46309          2.0       1.0           NaN      3.0              1.00000   \n",
       "46310          1.0       1.0           NaN      3.0              1.00000   \n",
       "46311          1.0       1.0           5.0      4.0              1.00000   \n",
       "\n",
       "       surface  \n",
       "0         35.0  \n",
       "1        131.0  \n",
       "2         16.0  \n",
       "3        100.0  \n",
       "4         90.0  \n",
       "...        ...  \n",
       "46307     88.0  \n",
       "46308    189.0  \n",
       "46309    140.0  \n",
       "46310     70.0  \n",
       "46311    101.0  \n",
       "\n",
       "[46312 rows x 17 columns]"
      ]
     },
     "execution_count": 333,
     "metadata": {},
     "output_type": "execute_result"
    }
   ],
   "source": [
    "train"
   ]
  },
  {
   "cell_type": "code",
   "execution_count": 334,
   "id": "46613f44",
   "metadata": {},
   "outputs": [
    {
     "name": "stdout",
     "output_type": "stream",
     "text": [
      "<class 'pandas.core.frame.DataFrame'>\n",
      "RangeIndex: 46312 entries, 0 to 46311\n",
      "Data columns (total 17 columns):\n",
      " #   Column               Non-Null Count  Dtype  \n",
      "---  ------               --------------  -----  \n",
      " 0   id                   46312 non-null  int64  \n",
      " 1   price                46312 non-null  int64  \n",
      " 2   balcony              30869 non-null  object \n",
      " 3   conditions           45083 non-null  object \n",
      " 4   construction_year    32366 non-null  float64\n",
      " 5   latitude             46299 non-null  float64\n",
      " 6   longitude            46299 non-null  float64\n",
      " 7   energy_efficiency    26409 non-null  float64\n",
      " 8   expenses             30158 non-null  float64\n",
      " 9   floor                44281 non-null  float64\n",
      " 10  garden               14783 non-null  object \n",
      " 11  n_bathrooms          43896 non-null  float64\n",
      " 12  elevator             28869 non-null  float64\n",
      " 13  total_floors         27963 non-null  float64\n",
      " 14  n_rooms              45959 non-null  float64\n",
      " 15  proximity_to_center  46299 non-null  float64\n",
      " 16  surface              45869 non-null  float64\n",
      "dtypes: float64(12), int64(2), object(3)\n",
      "memory usage: 6.0+ MB\n"
     ]
    }
   ],
   "source": [
    "train.info()"
   ]
  },
  {
   "cell_type": "code",
   "execution_count": 335,
   "id": "1af204bf",
   "metadata": {},
   "outputs": [
    {
     "data": {
      "text/plain": [
       "array([[<AxesSubplot:title={'center':'id'}>,\n",
       "        <AxesSubplot:title={'center':'price'}>,\n",
       "        <AxesSubplot:title={'center':'construction_year'}>,\n",
       "        <AxesSubplot:title={'center':'latitude'}>],\n",
       "       [<AxesSubplot:title={'center':'longitude'}>,\n",
       "        <AxesSubplot:title={'center':'energy_efficiency'}>,\n",
       "        <AxesSubplot:title={'center':'expenses'}>,\n",
       "        <AxesSubplot:title={'center':'floor'}>],\n",
       "       [<AxesSubplot:title={'center':'n_bathrooms'}>,\n",
       "        <AxesSubplot:title={'center':'elevator'}>,\n",
       "        <AxesSubplot:title={'center':'total_floors'}>,\n",
       "        <AxesSubplot:title={'center':'n_rooms'}>],\n",
       "       [<AxesSubplot:title={'center':'proximity_to_center'}>,\n",
       "        <AxesSubplot:title={'center':'surface'}>, <AxesSubplot:>,\n",
       "        <AxesSubplot:>]], dtype=object)"
      ]
     },
     "execution_count": 335,
     "metadata": {},
     "output_type": "execute_result"
    },
    {
     "data": {
      "image/png": "[encoded data removed]",
      "text/plain": [
       "<Figure size 1080x576 with 16 Axes>"
      ]
     },
     "metadata": {
      "needs_background": "light"
     },
     "output_type": "display_data"
    }
   ],
   "source": [
    "train.hist(figsize=(15,8))"
   ]
  },
  {
   "cell_type": "code",
   "execution_count": 336,
   "id": "cc50e34d",
   "metadata": {},
   "outputs": [
    {
     "data": {
      "text/plain": [
       "<AxesSubplot:>"
      ]
     },
     "execution_count": 336,
     "metadata": {},
     "output_type": "execute_result"
    },
    {
     "data": {
      "image/png": "[encoded data removed]",
      "text/plain": [
       "<Figure size 1080x576 with 2 Axes>"
      ]
     },
     "metadata": {
      "needs_background": "light"
     },
     "output_type": "display_data"
    }
   ],
   "source": [
    "plt.figure(figsize=(15,8))\n",
    "sns.heatmap(train.corr(),annot=True)"
   ]
  },
  {
   "cell_type": "code",
   "execution_count": 337,
   "id": "cda2fee9",
   "metadata": {},
   "outputs": [
    {
     "data": {
      "text/plain": [
       "id                         0\n",
       "price                      0\n",
       "balcony                15443\n",
       "conditions              1229\n",
       "construction_year      13946\n",
       "latitude                  13\n",
       "longitude                 13\n",
       "energy_efficiency      19903\n",
       "expenses               16154\n",
       "floor                   2031\n",
       "garden                 31529\n",
       "n_bathrooms             2416\n",
       "elevator               17443\n",
       "total_floors           18349\n",
       "n_rooms                  353\n",
       "proximity_to_center       13\n",
       "surface                  443\n",
       "dtype: int64"
      ]
     },
     "execution_count": 337,
     "metadata": {},
     "output_type": "execute_result"
    }
   ],
   "source": [
    "missing = train.isna().sum()\n",
    "missing"
   ]
  },
  {
   "cell_type": "markdown",
   "id": "eaa0fd2c",
   "metadata": {},
   "source": [
    "# Pre-Processing"
   ]
  },
  {
   "cell_type": "code",
   "execution_count": 338,
   "id": "ada8dfd9",
   "metadata": {},
   "outputs": [],
   "source": [
    "train= train.drop('id', axis=1)"
   ]
  },
  {
   "cell_type": "code",
   "execution_count": 339,
   "id": "cea9a46a",
   "metadata": {},
   "outputs": [],
   "source": [
    "# I'll try to substitute all NaN of the variables with the median or the mode depending on the variable\n",
    "train['n_rooms'].fillna(train['n_rooms'].median(), inplace = True)\n",
    "train['floor'].fillna(train['floor'].median(), inplace=True)\n",
    "train['n_bathrooms'].fillna(train['n_bathrooms'].median(), inplace=True)\n",
    "train['surface'].fillna(train['surface'].median(),inplace=True)\n",
    "train['balcony'] = train['balcony'].fillna(train['balcony'].mode()[0])\n",
    "train['construction_year'] = train['construction_year'].fillna(train['construction_year'].mode()[0])\n",
    "train['energy_efficiency'].fillna(train['energy_efficiency'].median(),inplace=True)\n",
    "train['expenses'].fillna(train['expenses'].median(),inplace=True)\n",
    "train['garden'] = train['garden'].fillna(train['garden'].mode()[0])\n",
    "train['elevator'] = train['elevator'].fillna(train['elevator'].mode()[0])\n",
    "train['proximity_to_center'] = train['proximity_to_center'].fillna(train['proximity_to_center'].mode()[0])\n",
    "train['latitude'].fillna(train['latitude'].median(),inplace=True)\n",
    "train['longitude'].fillna(train['longitude'].median(),inplace=True)\n",
    "train['total_floors'].fillna(train['total_floors'].median(),inplace=True)"
   ]
  },
  {
   "cell_type": "code",
   "execution_count": 340,
   "id": "9105bc2d",
   "metadata": {},
   "outputs": [],
   "source": [
    "# I'll substitute all the variables in surface that are 0.0 with the median since it makes no sense to have an house \n",
    "# with 0 surface.\n",
    "#train['surface'] = train['surface'].replace(0, train['surface'].median())\n",
    "#train['surface'] = train['surface'].replace(0, 0.1)"
   ]
  },
  {
   "cell_type": "code",
   "execution_count": 341,
   "id": "1d9d063a",
   "metadata": {},
   "outputs": [],
   "source": [
    "# I'll set the boolean variables as integers\n",
    "train['garden'] = train['garden'].astype(int)\n",
    "train['balcony'] = train['balcony'].astype(int)"
   ]
  },
  {
   "cell_type": "code",
   "execution_count": 342,
   "id": "b545b985",
   "metadata": {},
   "outputs": [
    {
     "data": {
      "text/plain": [
       "price                     0\n",
       "balcony                   0\n",
       "conditions             1229\n",
       "construction_year         0\n",
       "latitude                  0\n",
       "longitude                 0\n",
       "energy_efficiency         0\n",
       "expenses                  0\n",
       "floor                     0\n",
       "garden                    0\n",
       "n_bathrooms               0\n",
       "elevator                  0\n",
       "total_floors              0\n",
       "n_rooms                   0\n",
       "proximity_to_center       0\n",
       "surface                   0\n",
       "dtype: int64"
      ]
     },
     "execution_count": 342,
     "metadata": {},
     "output_type": "execute_result"
    }
   ],
   "source": [
    "missing = train.isna().sum()\n",
    "missing"
   ]
  },
  {
   "cell_type": "markdown",
   "id": "fc0c23ae",
   "metadata": {},
   "source": [
    "# Outliers"
   ]
  },
  {
   "cell_type": "code",
   "execution_count": 343,
   "id": "b45ae08a",
   "metadata": {},
   "outputs": [],
   "source": [
    "# I'll now check for some outliers in the variables:\n",
    "# I'll focus on the heaviest ones"
   ]
  },
  {
   "cell_type": "code",
   "execution_count": 344,
   "id": "0f381af7",
   "metadata": {},
   "outputs": [],
   "source": [
    "# The highest building has 31906 floors, while the second highest has 135 floors, so I'll drop the first one\n",
    "train=train[train['total_floors'] < train['total_floors'].sort_values().iloc[-1]]"
   ]
  },
  {
   "cell_type": "code",
   "execution_count": 345,
   "id": "252ecf1e",
   "metadata": {},
   "outputs": [],
   "source": [
    "# dropping just the smallest one\n",
    "train=train[train['price'] > train['price'].sort_values().iloc[1]]"
   ]
  },
  {
   "cell_type": "code",
   "execution_count": 346,
   "id": "4d2c9d5b",
   "metadata": {},
   "outputs": [],
   "source": [
    "# dropping the last one since the construction year is 2500\n",
    "train=train[train['construction_year'] < train['construction_year'].sort_values().iloc[-1]]"
   ]
  },
  {
   "cell_type": "code",
   "execution_count": 347,
   "id": "3671b714",
   "metadata": {},
   "outputs": [
    {
     "name": "stdout",
     "output_type": "stream",
     "text": [
      "<class 'pandas.core.frame.DataFrame'>\n",
      "Int64Index: 46308 entries, 0 to 46311\n",
      "Data columns (total 16 columns):\n",
      " #   Column               Non-Null Count  Dtype  \n",
      "---  ------               --------------  -----  \n",
      " 0   price                46308 non-null  int64  \n",
      " 1   balcony              46308 non-null  int32  \n",
      " 2   conditions           45079 non-null  object \n",
      " 3   construction_year    46308 non-null  float64\n",
      " 4   latitude             46308 non-null  float64\n",
      " 5   longitude            46308 non-null  float64\n",
      " 6   energy_efficiency    46308 non-null  float64\n",
      " 7   expenses             46308 non-null  float64\n",
      " 8   floor                46308 non-null  float64\n",
      " 9   garden               46308 non-null  int32  \n",
      " 10  n_bathrooms          46308 non-null  float64\n",
      " 11  elevator             46308 non-null  float64\n",
      " 12  total_floors         46308 non-null  float64\n",
      " 13  n_rooms              46308 non-null  float64\n",
      " 14  proximity_to_center  46308 non-null  float64\n",
      " 15  surface              46308 non-null  float64\n",
      "dtypes: float64(12), int32(2), int64(1), object(1)\n",
      "memory usage: 5.7+ MB\n"
     ]
    }
   ],
   "source": [
    "train.info()"
   ]
  },
  {
   "cell_type": "markdown",
   "id": "6388b69e",
   "metadata": {},
   "source": [
    "# Point of Interest"
   ]
  },
  {
   "cell_type": "code",
   "execution_count": 348,
   "id": "db780321",
   "metadata": {},
   "outputs": [],
   "source": [
    "poi=pd.read_csv('poi.csv')"
   ]
  },
  {
   "cell_type": "code",
   "execution_count": 349,
   "id": "fb586d3c",
   "metadata": {},
   "outputs": [],
   "source": [
    "poi2=poi.copy()"
   ]
  },
  {
   "cell_type": "code",
   "execution_count": 350,
   "id": "c6477372",
   "metadata": {},
   "outputs": [],
   "source": [
    "poi_feature=poi2[['id_on_platform']]"
   ]
  },
  {
   "cell_type": "code",
   "execution_count": 351,
   "id": "9c8335bf",
   "metadata": {},
   "outputs": [],
   "source": [
    "poi_feature['lat']=poi2['lat']\n",
    "poi_feature['lon']=poi2['lon']"
   ]
  },
  {
   "cell_type": "code",
   "execution_count": 352,
   "id": "b4e0fffc",
   "metadata": {},
   "outputs": [
    {
     "name": "stdout",
     "output_type": "stream",
     "text": [
      "<class 'pandas.core.frame.DataFrame'>\n",
      "RangeIndex: 397382 entries, 0 to 397381\n",
      "Data columns (total 96 columns):\n",
      " #   Column                 Non-Null Count   Dtype  \n",
      "---  ------                 --------------   -----  \n",
      " 0   id_on_platform         397382 non-null  int64  \n",
      " 1   lat                    397382 non-null  float64\n",
      " 2   lon                    397382 non-null  float64\n",
      " 3   source                 397382 non-null  object \n",
      " 4   tags.addr:city         80929 non-null   object \n",
      " 5   tags.addr:country      32852 non-null   object \n",
      " 6   tags.addr:housenumber  104548 non-null  object \n",
      " 7   tags.addr:postcode     64669 non-null   object \n",
      " 8   tags.addr:street       97486 non-null   object \n",
      " 9   tags.alt_name:gl       1 non-null       object \n",
      " 10  tags.amenity           50459 non-null   object \n",
      " 11  tags.artwork_type      662 non-null     object \n",
      " 12  tags.barrier           42890 non-null   object \n",
      " 13  tags.bicycle           3878 non-null    object \n",
      " 14  tags.brand             4342 non-null    object \n",
      " 15  tags.brand:wikidata    3342 non-null    object \n",
      " 16  tags.brand:wikipedia   2967 non-null    object \n",
      " 17  tags.capital           5 non-null       object \n",
      " 18  tags.comment:it        1184 non-null    object \n",
      " 19  tags.created_by        2676 non-null    object \n",
      " 20  tags.crossing          30601 non-null   object \n",
      " 21  tags.ele               1694 non-null    float64\n",
      " 22  tags.fixme             2509 non-null    object \n",
      " 23  tags.foot              2620 non-null    object \n",
      " 24  tags.fuel:diesel       150 non-null     object \n",
      " 25  tags.fuel:lpg          50 non-null      object \n",
      " 26  tags.fuel:octane_95    145 non-null     object \n",
      " 27  tags.highway           77776 non-null   object \n",
      " 28  tags.loc_name          34 non-null      object \n",
      " 29  tags.mapillary         4582 non-null    object \n",
      " 30  tags.motor_vehicle     547 non-null     object \n",
      " 31  tags.name              54874 non-null   object \n",
      " 32  tags.name:ar           45 non-null      object \n",
      " 33  tags.name:be           21 non-null      object \n",
      " 34  tags.name:ca           9 non-null       object \n",
      " 35  tags.name:cs           17 non-null      object \n",
      " 36  tags.name:de           300 non-null     object \n",
      " 37  tags.name:east2276     1 non-null       object \n",
      " 38  tags.name:el           16 non-null      object \n",
      " 39  tags.name:en           1217 non-null    object \n",
      " 40  tags.name:eo           8 non-null       object \n",
      " 41  tags.name:es           160 non-null     object \n",
      " 42  tags.name:fa           11 non-null      object \n",
      " 43  tags.name:fi           10 non-null      object \n",
      " 44  tags.name:fr           462 non-null     object \n",
      " 45  tags.name:fur          6 non-null       object \n",
      " 46  tags.name:gl           5 non-null       object \n",
      " 47  tags.name:he           13 non-null      object \n",
      " 48  tags.name:hi           6 non-null       object \n",
      " 49  tags.name:hr           11 non-null      object \n",
      " 50  tags.name:hu           94 non-null      object \n",
      " 51  tags.name:it           1048 non-null    object \n",
      " 52  tags.name:ja           69 non-null      object \n",
      " 53  tags.name:kn           6 non-null       object \n",
      " 54  tags.name:ko           28 non-null      object \n",
      " 55  tags.name:la           27 non-null      object \n",
      " 56  tags.name:lb           6 non-null       object \n",
      " 57  tags.name:lmo          162 non-null     object \n",
      " 58  tags.name:lt           22 non-null      object \n",
      " 59  tags.name:nl           26 non-null      object \n",
      " 60  tags.name:oc           4 non-null       object \n",
      " 61  tags.name:pl           38 non-null      object \n",
      " 62  tags.name:pt           41 non-null      object \n",
      " 63  tags.name:ru           199 non-null     object \n",
      " 64  tags.name:sk           12 non-null      object \n",
      " 65  tags.name:sl           11 non-null      object \n",
      " 66  tags.name:sr           11 non-null      object \n",
      " 67  tags.name:tr           19 non-null      object \n",
      " 68  tags.name:uk           22 non-null      object \n",
      " 69  tags.name:za           1 non-null       object \n",
      " 70  tags.name:zh           101 non-null     object \n",
      " 71  tags.name:zh-Hans      7 non-null       object \n",
      " 72  tags.name:zh-Hant      7 non-null       object \n",
      " 73  tags.operator          16001 non-null   object \n",
      " 74  tags.place             739 non-null     object \n",
      " 75  tags.population        103 non-null     float64\n",
      " 76  tags.public_transport  12723 non-null   object \n",
      " 77  tags.railway           9578 non-null    object \n",
      " 78  tags.rank              3 non-null       float64\n",
      " 79  tags.ref               10692 non-null   object \n",
      " 80  tags.ref:ISTAT         2 non-null       object \n",
      " 81  tags.ref:mise          799 non-null     float64\n",
      " 82  tags.source:name:oc    1 non-null       object \n",
      " 83  tags.start_date        539 non-null     object \n",
      " 84  tags.station           223 non-null     object \n",
      " 85  tags.subject           13 non-null      object \n",
      " 86  tags.subway            244 non-null     object \n",
      " 87  tags.survey:date       9798 non-null    object \n",
      " 88  tags.tactile_paving    30428 non-null   object \n",
      " 89  tags.tourism           4438 non-null    object \n",
      " 90  tags.traffic_calming   937 non-null     object \n",
      " 91  tags.train             400 non-null     object \n",
      " 92  tags.tram              1333 non-null    object \n",
      " 93  tags.wheelchair        10077 non-null   object \n",
      " 94  tags.wikidata          1668 non-null    object \n",
      " 95  tags.wikipedia         1025 non-null    object \n",
      "dtypes: float64(6), int64(1), object(89)\n",
      "memory usage: 291.1+ MB\n"
     ]
    }
   ],
   "source": [
    "# I'll now clean the poi dataset, in order to only have data that could be used as features in the train dataset\n",
    "poi2.info()"
   ]
  },
  {
   "cell_type": "code",
   "execution_count": 353,
   "id": "4f90ed11",
   "metadata": {},
   "outputs": [],
   "source": [
    "poi2 = poi2[['lat', 'lon', 'tags.amenity', 'tags.fuel:diesel', 'tags.artwork_type', 'tags.fuel:lpg', \n",
    "                          'tags.station', 'tags.fuel:octane_95', 'tags.public_transport', 'tags.railway', 'tags.subway', \n",
    "                         'tags.tourism','tags.tram', 'tags.train']]"
   ]
  },
  {
   "cell_type": "code",
   "execution_count": 354,
   "id": "db188462",
   "metadata": {},
   "outputs": [
    {
     "data": {
      "text/html": [
       "<div>\n",
       "<style scoped>\n",
       "    .dataframe tbody tr th:only-of-type {\n",
       "        vertical-align: middle;\n",
       "    }\n",
       "\n",
       "    .dataframe tbody tr th {\n",
       "        vertical-align: top;\n",
       "    }\n",
       "\n",
       "    .dataframe thead th {\n",
       "        text-align: right;\n",
       "    }\n",
       "</style>\n",
       "<table border=\"1\" class=\"dataframe\">\n",
       "  <thead>\n",
       "    <tr style=\"text-align: right;\">\n",
       "      <th></th>\n",
       "      <th>tags.amenity</th>\n",
       "    </tr>\n",
       "  </thead>\n",
       "  <tbody>\n",
       "    <tr>\n",
       "      <th>bench</th>\n",
       "      <td>9941</td>\n",
       "    </tr>\n",
       "    <tr>\n",
       "      <th>waste_basket</th>\n",
       "      <td>6367</td>\n",
       "    </tr>\n",
       "    <tr>\n",
       "      <th>restaurant</th>\n",
       "      <td>6159</td>\n",
       "    </tr>\n",
       "    <tr>\n",
       "      <th>cafe</th>\n",
       "      <td>3568</td>\n",
       "    </tr>\n",
       "    <tr>\n",
       "      <th>drinking_water</th>\n",
       "      <td>3029</td>\n",
       "    </tr>\n",
       "    <tr>\n",
       "      <th>...</th>\n",
       "      <td>...</td>\n",
       "    </tr>\n",
       "    <tr>\n",
       "      <th>vehicle_inspection</th>\n",
       "      <td>1</td>\n",
       "    </tr>\n",
       "    <tr>\n",
       "      <th>prison</th>\n",
       "      <td>1</td>\n",
       "    </tr>\n",
       "    <tr>\n",
       "      <th>watering_place;drinking_water</th>\n",
       "      <td>1</td>\n",
       "    </tr>\n",
       "    <tr>\n",
       "      <th>internet_cafe;money_transfer</th>\n",
       "      <td>1</td>\n",
       "    </tr>\n",
       "    <tr>\n",
       "      <th>person_weighing</th>\n",
       "      <td>1</td>\n",
       "    </tr>\n",
       "  </tbody>\n",
       "</table>\n",
       "<p>173 rows × 1 columns</p>\n",
       "</div>"
      ],
      "text/plain": [
       "                               tags.amenity\n",
       "bench                                  9941\n",
       "waste_basket                           6367\n",
       "restaurant                             6159\n",
       "cafe                                   3568\n",
       "drinking_water                         3029\n",
       "...                                     ...\n",
       "vehicle_inspection                        1\n",
       "prison                                    1\n",
       "watering_place;drinking_water             1\n",
       "internet_cafe;money_transfer              1\n",
       "person_weighing                           1\n",
       "\n",
       "[173 rows x 1 columns]"
      ]
     },
     "execution_count": 354,
     "metadata": {},
     "output_type": "execute_result"
    }
   ],
   "source": [
    "pd.DataFrame(poi2['tags.amenity'].value_counts())"
   ]
  },
  {
   "cell_type": "code",
   "execution_count": 355,
   "id": "9d41fa4b",
   "metadata": {},
   "outputs": [
    {
     "data": {
      "text/html": [
       "<div>\n",
       "<style scoped>\n",
       "    .dataframe tbody tr th:only-of-type {\n",
       "        vertical-align: middle;\n",
       "    }\n",
       "\n",
       "    .dataframe tbody tr th {\n",
       "        vertical-align: top;\n",
       "    }\n",
       "\n",
       "    .dataframe thead th {\n",
       "        text-align: right;\n",
       "    }\n",
       "</style>\n",
       "<table border=\"1\" class=\"dataframe\">\n",
       "  <thead>\n",
       "    <tr style=\"text-align: right;\">\n",
       "      <th></th>\n",
       "      <th>id_on_platform</th>\n",
       "      <th>lat</th>\n",
       "      <th>lon</th>\n",
       "    </tr>\n",
       "  </thead>\n",
       "  <tbody>\n",
       "    <tr>\n",
       "      <th>0</th>\n",
       "      <td>21225803</td>\n",
       "      <td>45.460632</td>\n",
       "      <td>9.190908</td>\n",
       "    </tr>\n",
       "    <tr>\n",
       "      <th>1</th>\n",
       "      <td>21225957</td>\n",
       "      <td>45.460992</td>\n",
       "      <td>9.191615</td>\n",
       "    </tr>\n",
       "    <tr>\n",
       "      <th>2</th>\n",
       "      <td>21225987</td>\n",
       "      <td>45.462431</td>\n",
       "      <td>9.193959</td>\n",
       "    </tr>\n",
       "    <tr>\n",
       "      <th>3</th>\n",
       "      <td>21226001</td>\n",
       "      <td>45.460820</td>\n",
       "      <td>9.191105</td>\n",
       "    </tr>\n",
       "    <tr>\n",
       "      <th>4</th>\n",
       "      <td>21226174</td>\n",
       "      <td>45.468803</td>\n",
       "      <td>9.199262</td>\n",
       "    </tr>\n",
       "    <tr>\n",
       "      <th>...</th>\n",
       "      <td>...</td>\n",
       "      <td>...</td>\n",
       "      <td>...</td>\n",
       "    </tr>\n",
       "    <tr>\n",
       "      <th>397377</th>\n",
       "      <td>9844153599</td>\n",
       "      <td>46.218665</td>\n",
       "      <td>6.148755</td>\n",
       "    </tr>\n",
       "    <tr>\n",
       "      <th>397378</th>\n",
       "      <td>9844156332</td>\n",
       "      <td>46.222237</td>\n",
       "      <td>6.097440</td>\n",
       "    </tr>\n",
       "    <tr>\n",
       "      <th>397379</th>\n",
       "      <td>9844156333</td>\n",
       "      <td>46.221761</td>\n",
       "      <td>6.097105</td>\n",
       "    </tr>\n",
       "    <tr>\n",
       "      <th>397380</th>\n",
       "      <td>9844156334</td>\n",
       "      <td>46.225913</td>\n",
       "      <td>6.101458</td>\n",
       "    </tr>\n",
       "    <tr>\n",
       "      <th>397381</th>\n",
       "      <td>9844191652</td>\n",
       "      <td>46.223206</td>\n",
       "      <td>6.098372</td>\n",
       "    </tr>\n",
       "  </tbody>\n",
       "</table>\n",
       "<p>397382 rows × 3 columns</p>\n",
       "</div>"
      ],
      "text/plain": [
       "        id_on_platform        lat       lon\n",
       "0             21225803  45.460632  9.190908\n",
       "1             21225957  45.460992  9.191615\n",
       "2             21225987  45.462431  9.193959\n",
       "3             21226001  45.460820  9.191105\n",
       "4             21226174  45.468803  9.199262\n",
       "...                ...        ...       ...\n",
       "397377      9844153599  46.218665  6.148755\n",
       "397378      9844156332  46.222237  6.097440\n",
       "397379      9844156333  46.221761  6.097105\n",
       "397380      9844156334  46.225913  6.101458\n",
       "397381      9844191652  46.223206  6.098372\n",
       "\n",
       "[397382 rows x 3 columns]"
      ]
     },
     "execution_count": 355,
     "metadata": {},
     "output_type": "execute_result"
    }
   ],
   "source": [
    "poi_feature"
   ]
  },
  {
   "cell_type": "code",
   "execution_count": 356,
   "id": "7fb681b0",
   "metadata": {},
   "outputs": [],
   "source": [
    "poi_feature['culture']=(poi2['tags.amenity']=='theatre') | (poi2['tags.amenity']=='university') | (poi2['tags.amenity']=='library') | (poi2['tags.amenity']=='school') | (poi2['tags.amenity']=='college') | (poi2['tags.amenity']=='museum') | (poi2['tags.amenity']=='art_gallery')"
   ]
  },
  {
   "cell_type": "code",
   "execution_count": 357,
   "id": "40b1f669",
   "metadata": {},
   "outputs": [],
   "source": [
    "poi_feature['health']=(poi2['tags.amenity']=='pharmacy') | (poi2['tags.amenity']=='doctors') | (poi2['tags.amenity']=='dentist') | (poi2['tags.amenity']=='hospital') | (poi2['tags.amenity']=='clinic')"
   ]
  },
  {
   "cell_type": "code",
   "execution_count": 358,
   "id": "5adea32e",
   "metadata": {},
   "outputs": [],
   "source": [
    "poi_feature['entertainment']=(poi2['tags.amenity']=='restaurant') | (poi2['tags.amenity']=='Restaurant') | (poi2['tags.amenity']=='fast_food') | (poi2['tags.amenity']=='pub') | (poi2['tags.amenity']=='cafe')"
   ]
  },
  {
   "cell_type": "code",
   "execution_count": 359,
   "id": "0278c969",
   "metadata": {},
   "outputs": [],
   "source": [
    "poi_feature['value']=(poi2['tags.amenity']=='cinema') | (poi2['tags.amenity']=='fountain') | (poi2['tags.amenity']=='bank') | (poi2['tags.amenity']=='social_club') | (poi2['tags.amenity']=='music_school') | (poi2['tags.amenity']=='parking')"
   ]
  },
  {
   "cell_type": "code",
   "execution_count": 360,
   "id": "7ea5ea40",
   "metadata": {},
   "outputs": [
    {
     "data": {
      "text/html": [
       "<div>\n",
       "<style scoped>\n",
       "    .dataframe tbody tr th:only-of-type {\n",
       "        vertical-align: middle;\n",
       "    }\n",
       "\n",
       "    .dataframe tbody tr th {\n",
       "        vertical-align: top;\n",
       "    }\n",
       "\n",
       "    .dataframe thead th {\n",
       "        text-align: right;\n",
       "    }\n",
       "</style>\n",
       "<table border=\"1\" class=\"dataframe\">\n",
       "  <thead>\n",
       "    <tr style=\"text-align: right;\">\n",
       "      <th></th>\n",
       "      <th>id_on_platform</th>\n",
       "      <th>lat</th>\n",
       "      <th>lon</th>\n",
       "      <th>culture</th>\n",
       "      <th>health</th>\n",
       "      <th>entertainment</th>\n",
       "      <th>value</th>\n",
       "    </tr>\n",
       "  </thead>\n",
       "  <tbody>\n",
       "    <tr>\n",
       "      <th>0</th>\n",
       "      <td>21225803</td>\n",
       "      <td>45.460632</td>\n",
       "      <td>9.190908</td>\n",
       "      <td>False</td>\n",
       "      <td>False</td>\n",
       "      <td>False</td>\n",
       "      <td>False</td>\n",
       "    </tr>\n",
       "    <tr>\n",
       "      <th>1</th>\n",
       "      <td>21225957</td>\n",
       "      <td>45.460992</td>\n",
       "      <td>9.191615</td>\n",
       "      <td>False</td>\n",
       "      <td>False</td>\n",
       "      <td>False</td>\n",
       "      <td>False</td>\n",
       "    </tr>\n",
       "    <tr>\n",
       "      <th>2</th>\n",
       "      <td>21225987</td>\n",
       "      <td>45.462431</td>\n",
       "      <td>9.193959</td>\n",
       "      <td>False</td>\n",
       "      <td>False</td>\n",
       "      <td>False</td>\n",
       "      <td>False</td>\n",
       "    </tr>\n",
       "    <tr>\n",
       "      <th>3</th>\n",
       "      <td>21226001</td>\n",
       "      <td>45.460820</td>\n",
       "      <td>9.191105</td>\n",
       "      <td>False</td>\n",
       "      <td>False</td>\n",
       "      <td>False</td>\n",
       "      <td>False</td>\n",
       "    </tr>\n",
       "    <tr>\n",
       "      <th>4</th>\n",
       "      <td>21226174</td>\n",
       "      <td>45.468803</td>\n",
       "      <td>9.199262</td>\n",
       "      <td>False</td>\n",
       "      <td>False</td>\n",
       "      <td>False</td>\n",
       "      <td>False</td>\n",
       "    </tr>\n",
       "    <tr>\n",
       "      <th>...</th>\n",
       "      <td>...</td>\n",
       "      <td>...</td>\n",
       "      <td>...</td>\n",
       "      <td>...</td>\n",
       "      <td>...</td>\n",
       "      <td>...</td>\n",
       "      <td>...</td>\n",
       "    </tr>\n",
       "    <tr>\n",
       "      <th>397377</th>\n",
       "      <td>9844153599</td>\n",
       "      <td>46.218665</td>\n",
       "      <td>6.148755</td>\n",
       "      <td>False</td>\n",
       "      <td>False</td>\n",
       "      <td>False</td>\n",
       "      <td>False</td>\n",
       "    </tr>\n",
       "    <tr>\n",
       "      <th>397378</th>\n",
       "      <td>9844156332</td>\n",
       "      <td>46.222237</td>\n",
       "      <td>6.097440</td>\n",
       "      <td>False</td>\n",
       "      <td>False</td>\n",
       "      <td>False</td>\n",
       "      <td>False</td>\n",
       "    </tr>\n",
       "    <tr>\n",
       "      <th>397379</th>\n",
       "      <td>9844156333</td>\n",
       "      <td>46.221761</td>\n",
       "      <td>6.097105</td>\n",
       "      <td>False</td>\n",
       "      <td>False</td>\n",
       "      <td>False</td>\n",
       "      <td>False</td>\n",
       "    </tr>\n",
       "    <tr>\n",
       "      <th>397380</th>\n",
       "      <td>9844156334</td>\n",
       "      <td>46.225913</td>\n",
       "      <td>6.101458</td>\n",
       "      <td>False</td>\n",
       "      <td>False</td>\n",
       "      <td>False</td>\n",
       "      <td>False</td>\n",
       "    </tr>\n",
       "    <tr>\n",
       "      <th>397381</th>\n",
       "      <td>9844191652</td>\n",
       "      <td>46.223206</td>\n",
       "      <td>6.098372</td>\n",
       "      <td>False</td>\n",
       "      <td>False</td>\n",
       "      <td>False</td>\n",
       "      <td>False</td>\n",
       "    </tr>\n",
       "  </tbody>\n",
       "</table>\n",
       "<p>397382 rows × 7 columns</p>\n",
       "</div>"
      ],
      "text/plain": [
       "        id_on_platform        lat       lon  culture  health  entertainment  \\\n",
       "0             21225803  45.460632  9.190908    False   False          False   \n",
       "1             21225957  45.460992  9.191615    False   False          False   \n",
       "2             21225987  45.462431  9.193959    False   False          False   \n",
       "3             21226001  45.460820  9.191105    False   False          False   \n",
       "4             21226174  45.468803  9.199262    False   False          False   \n",
       "...                ...        ...       ...      ...     ...            ...   \n",
       "397377      9844153599  46.218665  6.148755    False   False          False   \n",
       "397378      9844156332  46.222237  6.097440    False   False          False   \n",
       "397379      9844156333  46.221761  6.097105    False   False          False   \n",
       "397380      9844156334  46.225913  6.101458    False   False          False   \n",
       "397381      9844191652  46.223206  6.098372    False   False          False   \n",
       "\n",
       "        value  \n",
       "0       False  \n",
       "1       False  \n",
       "2       False  \n",
       "3       False  \n",
       "4       False  \n",
       "...       ...  \n",
       "397377  False  \n",
       "397378  False  \n",
       "397379  False  \n",
       "397380  False  \n",
       "397381  False  \n",
       "\n",
       "[397382 rows x 7 columns]"
      ]
     },
     "execution_count": 360,
     "metadata": {},
     "output_type": "execute_result"
    }
   ],
   "source": [
    "poi_feature"
   ]
  },
  {
   "cell_type": "code",
   "execution_count": 361,
   "id": "359aec0f",
   "metadata": {},
   "outputs": [],
   "source": [
    "false= (poi_feature.drop(labels = ['id_on_platform','lat', 'lon'], axis = 1) == False).all(axis=1)\n",
    "poi_feature.drop(poi_feature[false].index, inplace = True)"
   ]
  },
  {
   "cell_type": "code",
   "execution_count": 362,
   "id": "3765b14a",
   "metadata": {},
   "outputs": [
    {
     "data": {
      "text/html": [
       "<div>\n",
       "<style scoped>\n",
       "    .dataframe tbody tr th:only-of-type {\n",
       "        vertical-align: middle;\n",
       "    }\n",
       "\n",
       "    .dataframe tbody tr th {\n",
       "        vertical-align: top;\n",
       "    }\n",
       "\n",
       "    .dataframe thead th {\n",
       "        text-align: right;\n",
       "    }\n",
       "</style>\n",
       "<table border=\"1\" class=\"dataframe\">\n",
       "  <thead>\n",
       "    <tr style=\"text-align: right;\">\n",
       "      <th></th>\n",
       "      <th>lat</th>\n",
       "      <th>lon</th>\n",
       "      <th>culture</th>\n",
       "      <th>health</th>\n",
       "      <th>entertainment</th>\n",
       "      <th>value</th>\n",
       "    </tr>\n",
       "  </thead>\n",
       "  <tbody>\n",
       "    <tr>\n",
       "      <th>58</th>\n",
       "      <td>45.471112</td>\n",
       "      <td>9.194628</td>\n",
       "      <td>True</td>\n",
       "      <td>False</td>\n",
       "      <td>False</td>\n",
       "      <td>False</td>\n",
       "    </tr>\n",
       "    <tr>\n",
       "      <th>60</th>\n",
       "      <td>45.465121</td>\n",
       "      <td>9.192365</td>\n",
       "      <td>False</td>\n",
       "      <td>False</td>\n",
       "      <td>False</td>\n",
       "      <td>True</td>\n",
       "    </tr>\n",
       "    <tr>\n",
       "      <th>61</th>\n",
       "      <td>45.465595</td>\n",
       "      <td>9.197900</td>\n",
       "      <td>False</td>\n",
       "      <td>False</td>\n",
       "      <td>True</td>\n",
       "      <td>False</td>\n",
       "    </tr>\n",
       "    <tr>\n",
       "      <th>63</th>\n",
       "      <td>45.459802</td>\n",
       "      <td>9.198601</td>\n",
       "      <td>False</td>\n",
       "      <td>False</td>\n",
       "      <td>False</td>\n",
       "      <td>True</td>\n",
       "    </tr>\n",
       "    <tr>\n",
       "      <th>84</th>\n",
       "      <td>45.466645</td>\n",
       "      <td>9.184770</td>\n",
       "      <td>True</td>\n",
       "      <td>False</td>\n",
       "      <td>False</td>\n",
       "      <td>False</td>\n",
       "    </tr>\n",
       "    <tr>\n",
       "      <th>...</th>\n",
       "      <td>...</td>\n",
       "      <td>...</td>\n",
       "      <td>...</td>\n",
       "      <td>...</td>\n",
       "      <td>...</td>\n",
       "      <td>...</td>\n",
       "    </tr>\n",
       "    <tr>\n",
       "      <th>397330</th>\n",
       "      <td>46.200432</td>\n",
       "      <td>6.131238</td>\n",
       "      <td>False</td>\n",
       "      <td>False</td>\n",
       "      <td>True</td>\n",
       "      <td>False</td>\n",
       "    </tr>\n",
       "    <tr>\n",
       "      <th>397331</th>\n",
       "      <td>46.200375</td>\n",
       "      <td>6.131338</td>\n",
       "      <td>False</td>\n",
       "      <td>False</td>\n",
       "      <td>True</td>\n",
       "      <td>False</td>\n",
       "    </tr>\n",
       "    <tr>\n",
       "      <th>397333</th>\n",
       "      <td>46.200637</td>\n",
       "      <td>6.139789</td>\n",
       "      <td>False</td>\n",
       "      <td>True</td>\n",
       "      <td>False</td>\n",
       "      <td>False</td>\n",
       "    </tr>\n",
       "    <tr>\n",
       "      <th>397335</th>\n",
       "      <td>46.200483</td>\n",
       "      <td>6.142525</td>\n",
       "      <td>False</td>\n",
       "      <td>False</td>\n",
       "      <td>True</td>\n",
       "      <td>False</td>\n",
       "    </tr>\n",
       "    <tr>\n",
       "      <th>397337</th>\n",
       "      <td>46.200471</td>\n",
       "      <td>6.139754</td>\n",
       "      <td>False</td>\n",
       "      <td>False</td>\n",
       "      <td>True</td>\n",
       "      <td>False</td>\n",
       "    </tr>\n",
       "  </tbody>\n",
       "</table>\n",
       "<p>16569 rows × 6 columns</p>\n",
       "</div>"
      ],
      "text/plain": [
       "              lat       lon  culture  health  entertainment  value\n",
       "58      45.471112  9.194628     True   False          False  False\n",
       "60      45.465121  9.192365    False   False          False   True\n",
       "61      45.465595  9.197900    False   False           True  False\n",
       "63      45.459802  9.198601    False   False          False   True\n",
       "84      45.466645  9.184770     True   False          False  False\n",
       "...           ...       ...      ...     ...            ...    ...\n",
       "397330  46.200432  6.131238    False   False           True  False\n",
       "397331  46.200375  6.131338    False   False           True  False\n",
       "397333  46.200637  6.139789    False    True          False  False\n",
       "397335  46.200483  6.142525    False   False           True  False\n",
       "397337  46.200471  6.139754    False   False           True  False\n",
       "\n",
       "[16569 rows x 6 columns]"
      ]
     },
     "execution_count": 362,
     "metadata": {},
     "output_type": "execute_result"
    }
   ],
   "source": [
    "poi_feature.drop('id_on_platform', axis=1)"
   ]
  },
  {
   "cell_type": "markdown",
   "id": "393e9555",
   "metadata": {},
   "source": [
    "# Feature Engineering"
   ]
  },
  {
   "cell_type": "code",
   "execution_count": 363,
   "id": "2d517e38",
   "metadata": {},
   "outputs": [],
   "source": [
    "values = list(train.conditions.unique())[:-1]"
   ]
  },
  {
   "cell_type": "code",
   "execution_count": 364,
   "id": "ad589e24",
   "metadata": {},
   "outputs": [
    {
     "data": {
      "text/plain": [
       "['Buono stato / Abitabile',\n",
       " 'Ottimo / Ristrutturato',\n",
       " 'Da ristrutturare',\n",
       " 'Nuovo / Nuova costruzione']"
      ]
     },
     "execution_count": 364,
     "metadata": {},
     "output_type": "execute_result"
    }
   ],
   "source": [
    "values"
   ]
  },
  {
   "cell_type": "code",
   "execution_count": 365,
   "id": "652e9d36",
   "metadata": {},
   "outputs": [
    {
     "data": {
      "text/html": [
       "<div>\n",
       "<style scoped>\n",
       "    .dataframe tbody tr th:only-of-type {\n",
       "        vertical-align: middle;\n",
       "    }\n",
       "\n",
       "    .dataframe tbody tr th {\n",
       "        vertical-align: top;\n",
       "    }\n",
       "\n",
       "    .dataframe thead th {\n",
       "        text-align: right;\n",
       "    }\n",
       "</style>\n",
       "<table border=\"1\" class=\"dataframe\">\n",
       "  <thead>\n",
       "    <tr style=\"text-align: right;\">\n",
       "      <th></th>\n",
       "      <th>Buono stato / Abitabile</th>\n",
       "      <th>Da ristrutturare</th>\n",
       "      <th>Nuovo / Nuova costruzione</th>\n",
       "      <th>Ottimo / Ristrutturato</th>\n",
       "    </tr>\n",
       "  </thead>\n",
       "  <tbody>\n",
       "    <tr>\n",
       "      <th>0</th>\n",
       "      <td>1</td>\n",
       "      <td>0</td>\n",
       "      <td>0</td>\n",
       "      <td>0</td>\n",
       "    </tr>\n",
       "    <tr>\n",
       "      <th>1</th>\n",
       "      <td>1</td>\n",
       "      <td>0</td>\n",
       "      <td>0</td>\n",
       "      <td>0</td>\n",
       "    </tr>\n",
       "    <tr>\n",
       "      <th>2</th>\n",
       "      <td>1</td>\n",
       "      <td>0</td>\n",
       "      <td>0</td>\n",
       "      <td>0</td>\n",
       "    </tr>\n",
       "    <tr>\n",
       "      <th>3</th>\n",
       "      <td>0</td>\n",
       "      <td>0</td>\n",
       "      <td>0</td>\n",
       "      <td>1</td>\n",
       "    </tr>\n",
       "    <tr>\n",
       "      <th>4</th>\n",
       "      <td>1</td>\n",
       "      <td>0</td>\n",
       "      <td>0</td>\n",
       "      <td>0</td>\n",
       "    </tr>\n",
       "    <tr>\n",
       "      <th>...</th>\n",
       "      <td>...</td>\n",
       "      <td>...</td>\n",
       "      <td>...</td>\n",
       "      <td>...</td>\n",
       "    </tr>\n",
       "    <tr>\n",
       "      <th>46307</th>\n",
       "      <td>1</td>\n",
       "      <td>0</td>\n",
       "      <td>0</td>\n",
       "      <td>0</td>\n",
       "    </tr>\n",
       "    <tr>\n",
       "      <th>46308</th>\n",
       "      <td>0</td>\n",
       "      <td>1</td>\n",
       "      <td>0</td>\n",
       "      <td>0</td>\n",
       "    </tr>\n",
       "    <tr>\n",
       "      <th>46309</th>\n",
       "      <td>1</td>\n",
       "      <td>0</td>\n",
       "      <td>0</td>\n",
       "      <td>0</td>\n",
       "    </tr>\n",
       "    <tr>\n",
       "      <th>46310</th>\n",
       "      <td>1</td>\n",
       "      <td>0</td>\n",
       "      <td>0</td>\n",
       "      <td>0</td>\n",
       "    </tr>\n",
       "    <tr>\n",
       "      <th>46311</th>\n",
       "      <td>0</td>\n",
       "      <td>0</td>\n",
       "      <td>0</td>\n",
       "      <td>1</td>\n",
       "    </tr>\n",
       "  </tbody>\n",
       "</table>\n",
       "<p>46308 rows × 4 columns</p>\n",
       "</div>"
      ],
      "text/plain": [
       "       Buono stato / Abitabile  Da ristrutturare  Nuovo / Nuova costruzione  \\\n",
       "0                            1                 0                          0   \n",
       "1                            1                 0                          0   \n",
       "2                            1                 0                          0   \n",
       "3                            0                 0                          0   \n",
       "4                            1                 0                          0   \n",
       "...                        ...               ...                        ...   \n",
       "46307                        1                 0                          0   \n",
       "46308                        0                 1                          0   \n",
       "46309                        1                 0                          0   \n",
       "46310                        1                 0                          0   \n",
       "46311                        0                 0                          0   \n",
       "\n",
       "       Ottimo / Ristrutturato  \n",
       "0                           0  \n",
       "1                           0  \n",
       "2                           0  \n",
       "3                           1  \n",
       "4                           0  \n",
       "...                       ...  \n",
       "46307                       0  \n",
       "46308                       0  \n",
       "46309                       0  \n",
       "46310                       0  \n",
       "46311                       1  \n",
       "\n",
       "[46308 rows x 4 columns]"
      ]
     },
     "execution_count": 365,
     "metadata": {},
     "output_type": "execute_result"
    }
   ],
   "source": [
    "dummy = pd.get_dummies(train.conditions, dtype = int)\n",
    "dummy"
   ]
  },
  {
   "cell_type": "code",
   "execution_count": 366,
   "id": "2d17a73a",
   "metadata": {},
   "outputs": [],
   "source": [
    "train = train.join(dummy)"
   ]
  },
  {
   "cell_type": "code",
   "execution_count": 367,
   "id": "c6f40710",
   "metadata": {},
   "outputs": [
    {
     "name": "stdout",
     "output_type": "stream",
     "text": [
      "<class 'pandas.core.frame.DataFrame'>\n",
      "Int64Index: 46308 entries, 0 to 46311\n",
      "Data columns (total 20 columns):\n",
      " #   Column                     Non-Null Count  Dtype  \n",
      "---  ------                     --------------  -----  \n",
      " 0   price                      46308 non-null  int64  \n",
      " 1   balcony                    46308 non-null  int32  \n",
      " 2   conditions                 45079 non-null  object \n",
      " 3   construction_year          46308 non-null  float64\n",
      " 4   latitude                   46308 non-null  float64\n",
      " 5   longitude                  46308 non-null  float64\n",
      " 6   energy_efficiency          46308 non-null  float64\n",
      " 7   expenses                   46308 non-null  float64\n",
      " 8   floor                      46308 non-null  float64\n",
      " 9   garden                     46308 non-null  int32  \n",
      " 10  n_bathrooms                46308 non-null  float64\n",
      " 11  elevator                   46308 non-null  float64\n",
      " 12  total_floors               46308 non-null  float64\n",
      " 13  n_rooms                    46308 non-null  float64\n",
      " 14  proximity_to_center        46308 non-null  float64\n",
      " 15  surface                    46308 non-null  float64\n",
      " 16  Buono stato / Abitabile    46308 non-null  int32  \n",
      " 17  Da ristrutturare           46308 non-null  int32  \n",
      " 18  Nuovo / Nuova costruzione  46308 non-null  int32  \n",
      " 19  Ottimo / Ristrutturato     46308 non-null  int32  \n",
      "dtypes: float64(12), int32(6), int64(1), object(1)\n",
      "memory usage: 7.4+ MB\n"
     ]
    }
   ],
   "source": [
    "train.info()"
   ]
  },
  {
   "cell_type": "code",
   "execution_count": 368,
   "id": "832fd155",
   "metadata": {},
   "outputs": [],
   "source": [
    "# Now I drop the variable conditions since I got the dummies from it\n",
    "train= train.drop('conditions', axis=1)"
   ]
  },
  {
   "cell_type": "code",
   "execution_count": 369,
   "id": "4133f922",
   "metadata": {},
   "outputs": [
    {
     "name": "stdout",
     "output_type": "stream",
     "text": [
      "<class 'pandas.core.frame.DataFrame'>\n",
      "Int64Index: 46308 entries, 0 to 46311\n",
      "Data columns (total 19 columns):\n",
      " #   Column                     Non-Null Count  Dtype  \n",
      "---  ------                     --------------  -----  \n",
      " 0   price                      46308 non-null  int64  \n",
      " 1   balcony                    46308 non-null  int32  \n",
      " 2   construction_year          46308 non-null  float64\n",
      " 3   latitude                   46308 non-null  float64\n",
      " 4   longitude                  46308 non-null  float64\n",
      " 5   energy_efficiency          46308 non-null  float64\n",
      " 6   expenses                   46308 non-null  float64\n",
      " 7   floor                      46308 non-null  float64\n",
      " 8   garden                     46308 non-null  int32  \n",
      " 9   n_bathrooms                46308 non-null  float64\n",
      " 10  elevator                   46308 non-null  float64\n",
      " 11  total_floors               46308 non-null  float64\n",
      " 12  n_rooms                    46308 non-null  float64\n",
      " 13  proximity_to_center        46308 non-null  float64\n",
      " 14  surface                    46308 non-null  float64\n",
      " 15  Buono stato / Abitabile    46308 non-null  int32  \n",
      " 16  Da ristrutturare           46308 non-null  int32  \n",
      " 17  Nuovo / Nuova costruzione  46308 non-null  int32  \n",
      " 18  Ottimo / Ristrutturato     46308 non-null  int32  \n",
      "dtypes: float64(12), int32(6), int64(1)\n",
      "memory usage: 7.0 MB\n"
     ]
    }
   ],
   "source": [
    "train.info()"
   ]
  },
  {
   "cell_type": "code",
   "execution_count": 370,
   "id": "4c9b3bb7",
   "metadata": {},
   "outputs": [],
   "source": [
    "# Now I'll try to add some variables and then see the correlation with the price."
   ]
  },
  {
   "cell_type": "code",
   "execution_count": 371,
   "id": "005bdaa0",
   "metadata": {},
   "outputs": [],
   "source": [
    "train['floor_relative'] = train['floor'] / train['total_floors']"
   ]
  },
  {
   "cell_type": "code",
   "execution_count": 372,
   "id": "7ab09f8e",
   "metadata": {},
   "outputs": [],
   "source": [
    "train['garden_with_surface'] = train['garden'] / (train['surface']+1)"
   ]
  },
  {
   "cell_type": "code",
   "execution_count": 373,
   "id": "215f2e9b",
   "metadata": {},
   "outputs": [],
   "source": [
    "train['surface_per_rooms'] = train['surface'] / train['n_rooms']"
   ]
  },
  {
   "cell_type": "code",
   "execution_count": 398,
   "id": "52e42aaa",
   "metadata": {},
   "outputs": [
    {
     "data": {
      "text/plain": [
       "<AxesSubplot:>"
      ]
     },
     "execution_count": 398,
     "metadata": {},
     "output_type": "execute_result"
    },
    {
     "data": {
      "image/png": "[encoded data removed]",
      "text/plain": [
       "<Figure size 1080x576 with 2 Axes>"
      ]
     },
     "metadata": {
      "needs_background": "light"
     },
     "output_type": "display_data"
    }
   ],
   "source": [
    "plt.figure(figsize=(15,8))\n",
    "sns.heatmap(train.corr(),annot=True)"
   ]
  },
  {
   "cell_type": "code",
   "execution_count": 374,
   "id": "82512432",
   "metadata": {},
   "outputs": [],
   "source": [
    "#def calcola_distanza(lat1, lon1, lat2, lon2):\n",
    "#    return distance((lat1, lon1), (lat2, lon2)).km\n",
    "\n",
    "\n",
    "#categorie_poi = ['culture', 'health', 'entertainment', 'value']\n",
    "\n",
    "\n",
    "#for categoria in categorie_poi:\n",
    "#    poi_filt = poi_feature[poi_feature[categoria]]\n",
    "#    poi_filt = poi_filt[['lat', 'lon']].reset_index(drop=True)\n",
    "#    poi_filt.columns = ['poi_lat', 'poi_lon']\n",
    "\n",
    "#    distanze = train[['latitude', 'longitude']].apply(\n",
    "#        lambda x: poi_filt.apply(\n",
    "#            lambda y: calcola_distanza(x['latitude'], x['longitude'], y['poi_lat'], y['poi_lon']),\n",
    "#            axis=1\n",
    "#        ).min(),\n",
    "#        axis=1\n",
    "#    )\n",
    "\n",
    "#    train[categoria + '_dist'] = np.round(distanze, 2)\n",
    "\n",
    "# visualizza il dataset train aggiornato\n",
    "#print(train.head())"
   ]
  },
  {
   "cell_type": "markdown",
   "id": "dae4255f",
   "metadata": {},
   "source": [
    "# Regression"
   ]
  },
  {
   "cell_type": "code",
   "execution_count": 375,
   "id": "fc5d555d",
   "metadata": {},
   "outputs": [],
   "source": [
    "# Now I'll start the first regression:\n",
    "from sklearn.metrics import mean_squared_error\n",
    "from sklearn.linear_model import LinearRegression\n",
    "from sklearn.model_selection import train_test_split\n",
    "from sklearn.ensemble import RandomForestRegressor\n",
    "from sklearn.metrics import mean_squared_error \n",
    "from sklearn.decomposition import PCA\n",
    "from sklearn.preprocessing import StandardScaler\n",
    "\n",
    "X, y = train.drop('price', axis = 1), train['price'] \n",
    "X_train, X_test, y_train, y_test = train_test_split(X, y, test_size=0.33, random_state = 42)"
   ]
  },
  {
   "cell_type": "code",
   "execution_count": 376,
   "id": "24ca502b",
   "metadata": {},
   "outputs": [
    {
     "data": {
      "text/plain": [
       "RandomForestRegressor(max_depth=2, random_state=42)"
      ]
     },
     "execution_count": 376,
     "metadata": {},
     "output_type": "execute_result"
    }
   ],
   "source": [
    "regr = RandomForestRegressor(max_depth=2, random_state=42)\n",
    "regr.fit(X_train, y_train)"
   ]
  },
  {
   "cell_type": "code",
   "execution_count": 377,
   "id": "16f26c44",
   "metadata": {},
   "outputs": [],
   "source": [
    "pred = regr.predict(X_test)"
   ]
  },
  {
   "cell_type": "code",
   "execution_count": 378,
   "id": "92531e9e",
   "metadata": {},
   "outputs": [
    {
     "data": {
      "text/plain": [
       "1439828749187.1895"
      ]
     },
     "execution_count": 378,
     "metadata": {},
     "output_type": "execute_result"
    }
   ],
   "source": [
    "mean_squared_error(y_test, pred)"
   ]
  },
  {
   "cell_type": "code",
   "execution_count": 379,
   "id": "c741c2b6",
   "metadata": {},
   "outputs": [
    {
     "data": {
      "text/plain": [
       "array([0.        , 0.        , 0.02251704, 0.01662224, 0.        ,\n",
       "       0.        , 0.0010689 , 0.        , 0.00093965, 0.        ,\n",
       "       0.        , 0.        , 0.        , 0.20151997, 0.00120509,\n",
       "       0.        , 0.        , 0.00657605, 0.13566141, 0.22744604,\n",
       "       0.38644362])"
      ]
     },
     "execution_count": 379,
     "metadata": {},
     "output_type": "execute_result"
    }
   ],
   "source": [
    "importances = regr.feature_importances_\n",
    "importances"
   ]
  },
  {
   "cell_type": "code",
   "execution_count": 380,
   "id": "a86bfd63",
   "metadata": {},
   "outputs": [
    {
     "data": {
      "text/html": [
       "<div>\n",
       "<style scoped>\n",
       "    .dataframe tbody tr th:only-of-type {\n",
       "        vertical-align: middle;\n",
       "    }\n",
       "\n",
       "    .dataframe tbody tr th {\n",
       "        vertical-align: top;\n",
       "    }\n",
       "\n",
       "    .dataframe thead th {\n",
       "        text-align: right;\n",
       "    }\n",
       "</style>\n",
       "<table border=\"1\" class=\"dataframe\">\n",
       "  <thead>\n",
       "    <tr style=\"text-align: right;\">\n",
       "      <th></th>\n",
       "      <th>col</th>\n",
       "      <th>importances</th>\n",
       "    </tr>\n",
       "  </thead>\n",
       "  <tbody>\n",
       "    <tr>\n",
       "      <th>0</th>\n",
       "      <td>balcony</td>\n",
       "      <td>0.000000</td>\n",
       "    </tr>\n",
       "    <tr>\n",
       "      <th>1</th>\n",
       "      <td>construction_year</td>\n",
       "      <td>0.000000</td>\n",
       "    </tr>\n",
       "    <tr>\n",
       "      <th>2</th>\n",
       "      <td>latitude</td>\n",
       "      <td>0.022517</td>\n",
       "    </tr>\n",
       "    <tr>\n",
       "      <th>3</th>\n",
       "      <td>longitude</td>\n",
       "      <td>0.016622</td>\n",
       "    </tr>\n",
       "    <tr>\n",
       "      <th>4</th>\n",
       "      <td>energy_efficiency</td>\n",
       "      <td>0.000000</td>\n",
       "    </tr>\n",
       "    <tr>\n",
       "      <th>5</th>\n",
       "      <td>expenses</td>\n",
       "      <td>0.000000</td>\n",
       "    </tr>\n",
       "    <tr>\n",
       "      <th>6</th>\n",
       "      <td>floor</td>\n",
       "      <td>0.001069</td>\n",
       "    </tr>\n",
       "    <tr>\n",
       "      <th>7</th>\n",
       "      <td>garden</td>\n",
       "      <td>0.000000</td>\n",
       "    </tr>\n",
       "    <tr>\n",
       "      <th>8</th>\n",
       "      <td>n_bathrooms</td>\n",
       "      <td>0.000940</td>\n",
       "    </tr>\n",
       "    <tr>\n",
       "      <th>9</th>\n",
       "      <td>elevator</td>\n",
       "      <td>0.000000</td>\n",
       "    </tr>\n",
       "    <tr>\n",
       "      <th>10</th>\n",
       "      <td>total_floors</td>\n",
       "      <td>0.000000</td>\n",
       "    </tr>\n",
       "    <tr>\n",
       "      <th>11</th>\n",
       "      <td>n_rooms</td>\n",
       "      <td>0.000000</td>\n",
       "    </tr>\n",
       "    <tr>\n",
       "      <th>12</th>\n",
       "      <td>proximity_to_center</td>\n",
       "      <td>0.000000</td>\n",
       "    </tr>\n",
       "    <tr>\n",
       "      <th>13</th>\n",
       "      <td>surface</td>\n",
       "      <td>0.201520</td>\n",
       "    </tr>\n",
       "    <tr>\n",
       "      <th>14</th>\n",
       "      <td>Buono stato / Abitabile</td>\n",
       "      <td>0.001205</td>\n",
       "    </tr>\n",
       "    <tr>\n",
       "      <th>15</th>\n",
       "      <td>Da ristrutturare</td>\n",
       "      <td>0.000000</td>\n",
       "    </tr>\n",
       "    <tr>\n",
       "      <th>16</th>\n",
       "      <td>Nuovo / Nuova costruzione</td>\n",
       "      <td>0.000000</td>\n",
       "    </tr>\n",
       "    <tr>\n",
       "      <th>17</th>\n",
       "      <td>Ottimo / Ristrutturato</td>\n",
       "      <td>0.006576</td>\n",
       "    </tr>\n",
       "    <tr>\n",
       "      <th>18</th>\n",
       "      <td>floor_relative</td>\n",
       "      <td>0.135661</td>\n",
       "    </tr>\n",
       "    <tr>\n",
       "      <th>19</th>\n",
       "      <td>garden_with_surface</td>\n",
       "      <td>0.227446</td>\n",
       "    </tr>\n",
       "    <tr>\n",
       "      <th>20</th>\n",
       "      <td>surface_per_rooms</td>\n",
       "      <td>0.386444</td>\n",
       "    </tr>\n",
       "  </tbody>\n",
       "</table>\n",
       "</div>"
      ],
      "text/plain": [
       "                          col  importances\n",
       "0                     balcony     0.000000\n",
       "1           construction_year     0.000000\n",
       "2                    latitude     0.022517\n",
       "3                   longitude     0.016622\n",
       "4           energy_efficiency     0.000000\n",
       "5                    expenses     0.000000\n",
       "6                       floor     0.001069\n",
       "7                      garden     0.000000\n",
       "8                 n_bathrooms     0.000940\n",
       "9                    elevator     0.000000\n",
       "10               total_floors     0.000000\n",
       "11                    n_rooms     0.000000\n",
       "12        proximity_to_center     0.000000\n",
       "13                    surface     0.201520\n",
       "14    Buono stato / Abitabile     0.001205\n",
       "15           Da ristrutturare     0.000000\n",
       "16  Nuovo / Nuova costruzione     0.000000\n",
       "17     Ottimo / Ristrutturato     0.006576\n",
       "18             floor_relative     0.135661\n",
       "19        garden_with_surface     0.227446\n",
       "20          surface_per_rooms     0.386444"
      ]
     },
     "execution_count": 380,
     "metadata": {},
     "output_type": "execute_result"
    }
   ],
   "source": [
    "pd.DataFrame({\"col\":X.columns, \"importances\":importances})"
   ]
  },
  {
   "cell_type": "markdown",
   "id": "c1f7cef6",
   "metadata": {},
   "source": [
    "# Grid Search"
   ]
  },
  {
   "cell_type": "code",
   "execution_count": 381,
   "id": "27a6f19a",
   "metadata": {},
   "outputs": [],
   "source": [
    "r=RandomForestRegressor(random_state=38)\n",
    "grid ={'max_depth':[2,7,4,9,6]}\n",
    "cross_valuation=KFold(n_splits=5,shuffle=True,random_state=38)\n",
    "regr=GridSearchCV(r,param_grid=grid,cv=cross_valuation)\n",
    "regr.fit(X_train, y_train)\n",
    "pred=regr.predict(X_test)"
   ]
  },
  {
   "cell_type": "code",
   "execution_count": 382,
   "id": "7e552108",
   "metadata": {},
   "outputs": [
    {
     "data": {
      "text/plain": [
       "array([237857.19623117, 372050.90385801, 342340.22053816, ...,\n",
       "       377315.0372392 , 197340.80877132, 232415.0467917 ])"
      ]
     },
     "execution_count": 382,
     "metadata": {},
     "output_type": "execute_result"
    }
   ],
   "source": [
    "pred"
   ]
  },
  {
   "cell_type": "code",
   "execution_count": 399,
   "id": "226f6fab",
   "metadata": {},
   "outputs": [
    {
     "data": {
      "text/plain": [
       "1280905530271.1"
      ]
     },
     "execution_count": 399,
     "metadata": {},
     "output_type": "execute_result"
    }
   ],
   "source": [
    "mean_squared_error(y_test, pred)"
   ]
  },
  {
   "cell_type": "markdown",
   "id": "5c058b9c",
   "metadata": {},
   "source": [
    "# PCA"
   ]
  },
  {
   "cell_type": "code",
   "execution_count": 383,
   "id": "3480f095",
   "metadata": {},
   "outputs": [],
   "source": [
    "scaler = StandardScaler()\n",
    "train_scaled = scaler.fit_transform(train)\n",
    "pca = PCA()\n",
    "pca.fit(train_scaled)\n",
    "explained_variance = pca.explained_variance_ratio_\n",
    "n_components = 0\n",
    "variance_sum = 0\n",
    "for i in range(len(explained_variance)):\n",
    "    variance_sum += explained_variance[i]\n",
    "    if variance_sum >= 0.95:\n",
    "        n_components = i+1\n",
    "        break\n",
    "pca = PCA(n_components=n_components)\n",
    "train_pca = pca.fit_transform(train_scaled)"
   ]
  },
  {
   "cell_type": "code",
   "execution_count": 384,
   "id": "7c5bf360",
   "metadata": {},
   "outputs": [
    {
     "data": {
      "text/plain": [
       "array([[-1.32019988, -0.31824129,  1.67349764, ...,  0.22799111,\n",
       "        -0.21625474, -0.20894973],\n",
       "       [ 0.18780682,  0.39745119,  1.39910008, ..., -0.08014819,\n",
       "         0.03485536,  0.71802294],\n",
       "       [-1.77315975,  0.8642027 ,  1.81292054, ...,  0.03177528,\n",
       "         0.0870838 , -0.53005368],\n",
       "       ...,\n",
       "       [ 0.17765492,  0.16155325, -1.25588201, ..., -0.43221801,\n",
       "        -0.67821074, -0.38744885],\n",
       "       [-1.12230217, -1.74617467, -1.21308675, ..., -0.75862364,\n",
       "        -0.76556632,  0.22245215],\n",
       "       [-0.24034304, -0.30781534,  0.76461469, ...,  0.18418025,\n",
       "        -0.11220846,  0.55604963]])"
      ]
     },
     "execution_count": 384,
     "metadata": {},
     "output_type": "execute_result"
    }
   ],
   "source": [
    "train_pca"
   ]
  },
  {
   "cell_type": "markdown",
   "id": "0f0a4013",
   "metadata": {},
   "source": [
    "# Test"
   ]
  },
  {
   "cell_type": "code",
   "execution_count": 385,
   "id": "0ea1d170",
   "metadata": {},
   "outputs": [],
   "source": [
    "test=pd.read_csv('test_updated.csv')"
   ]
  },
  {
   "cell_type": "code",
   "execution_count": 386,
   "id": "bd0c365a",
   "metadata": {},
   "outputs": [
    {
     "name": "stdout",
     "output_type": "stream",
     "text": [
      "<class 'pandas.core.frame.DataFrame'>\n",
      "RangeIndex: 19788 entries, 0 to 19787\n",
      "Data columns (total 16 columns):\n",
      " #   Column               Non-Null Count  Dtype  \n",
      "---  ------               --------------  -----  \n",
      " 0   id                   19788 non-null  int64  \n",
      " 1   balcony              13056 non-null  object \n",
      " 2   conditions           19277 non-null  object \n",
      " 3   construction_year    13824 non-null  float64\n",
      " 4   latitude             19778 non-null  float64\n",
      " 5   longitude            19778 non-null  float64\n",
      " 6   energy_efficiency    11218 non-null  float64\n",
      " 7   expenses             12817 non-null  float64\n",
      " 8   floor                18912 non-null  float64\n",
      " 9   garden               6345 non-null   object \n",
      " 10  n_bathrooms          18837 non-null  float64\n",
      " 11  elevator             12333 non-null  float64\n",
      " 12  total_floors         11850 non-null  float64\n",
      " 13  n_rooms              19647 non-null  float64\n",
      " 14  proximity_to_center  19778 non-null  float64\n",
      " 15  surface              19625 non-null  float64\n",
      "dtypes: float64(12), int64(1), object(3)\n",
      "memory usage: 2.4+ MB\n"
     ]
    }
   ],
   "source": [
    "test.info()"
   ]
  },
  {
   "cell_type": "code",
   "execution_count": 387,
   "id": "4a9f46f4",
   "metadata": {},
   "outputs": [],
   "source": [
    "# I'll now adjust the Test as I did in the Train\n",
    "test['n_rooms'].fillna(test['n_rooms'].median(), inplace = True)\n",
    "test['floor'].fillna(test['floor'].median(), inplace=True)\n",
    "test['n_bathrooms'].fillna(test['n_bathrooms'].median(), inplace=True)\n",
    "test['surface'].fillna(test['surface'].median(),inplace=True)\n",
    "test['balcony'] = test['balcony'].fillna(test['balcony'].mode()[0])\n",
    "test['construction_year'] = test['construction_year'].fillna(test['construction_year'].mode()[0])\n",
    "test['energy_efficiency'].fillna(test['energy_efficiency'].median(),inplace=True)\n",
    "test['expenses'].fillna(test['expenses'].median(),inplace=True)\n",
    "test['garden'] = test['garden'].fillna(test['garden'].mode()[0])\n",
    "test['elevator'] = test['elevator'].fillna(test['elevator'].mode()[0])\n",
    "test['proximity_to_center'] = test['proximity_to_center'].fillna(test['proximity_to_center'].mode()[0])\n",
    "test['latitude'].fillna(test['latitude'].median(),inplace=True)\n",
    "test['longitude'].fillna(test['longitude'].median(),inplace=True)\n",
    "test['total_floors'].fillna(test['total_floors'].median(),inplace=True)"
   ]
  },
  {
   "cell_type": "code",
   "execution_count": 388,
   "id": "5dd392c0",
   "metadata": {},
   "outputs": [
    {
     "name": "stdout",
     "output_type": "stream",
     "text": [
      "<class 'pandas.core.frame.DataFrame'>\n",
      "RangeIndex: 19788 entries, 0 to 19787\n",
      "Data columns (total 16 columns):\n",
      " #   Column               Non-Null Count  Dtype  \n",
      "---  ------               --------------  -----  \n",
      " 0   id                   19788 non-null  int64  \n",
      " 1   balcony              19788 non-null  bool   \n",
      " 2   conditions           19277 non-null  object \n",
      " 3   construction_year    19788 non-null  float64\n",
      " 4   latitude             19788 non-null  float64\n",
      " 5   longitude            19788 non-null  float64\n",
      " 6   energy_efficiency    19788 non-null  float64\n",
      " 7   expenses             19788 non-null  float64\n",
      " 8   floor                19788 non-null  float64\n",
      " 9   garden               19788 non-null  bool   \n",
      " 10  n_bathrooms          19788 non-null  float64\n",
      " 11  elevator             19788 non-null  float64\n",
      " 12  total_floors         19788 non-null  float64\n",
      " 13  n_rooms              19788 non-null  float64\n",
      " 14  proximity_to_center  19788 non-null  float64\n",
      " 15  surface              19788 non-null  float64\n",
      "dtypes: bool(2), float64(12), int64(1), object(1)\n",
      "memory usage: 2.2+ MB\n"
     ]
    }
   ],
   "source": [
    "test.info()"
   ]
  },
  {
   "cell_type": "code",
   "execution_count": 389,
   "id": "922e58d5",
   "metadata": {},
   "outputs": [],
   "source": [
    "dummy = pd.get_dummies(test.conditions, dtype = int)\n",
    "test = test.join(dummy)\n",
    "test= test.drop('conditions', axis=1)"
   ]
  },
  {
   "cell_type": "code",
   "execution_count": 390,
   "id": "bead9763",
   "metadata": {},
   "outputs": [],
   "source": [
    "test['floor_relative'] = test['floor'] / test['total_floors']\n",
    "test['garden_with_surface'] = test['garden'] / (test['surface']+1)\n",
    "test['surface_per_rooms'] = test['surface'] / test['n_rooms']\n",
    "#test=test.drop('id', axis=1)"
   ]
  },
  {
   "cell_type": "code",
   "execution_count": 391,
   "id": "987cd235",
   "metadata": {},
   "outputs": [
    {
     "name": "stdout",
     "output_type": "stream",
     "text": [
      "<class 'pandas.core.frame.DataFrame'>\n",
      "RangeIndex: 19788 entries, 0 to 19787\n",
      "Data columns (total 22 columns):\n",
      " #   Column                     Non-Null Count  Dtype  \n",
      "---  ------                     --------------  -----  \n",
      " 0   id                         19788 non-null  int64  \n",
      " 1   balcony                    19788 non-null  bool   \n",
      " 2   construction_year          19788 non-null  float64\n",
      " 3   latitude                   19788 non-null  float64\n",
      " 4   longitude                  19788 non-null  float64\n",
      " 5   energy_efficiency          19788 non-null  float64\n",
      " 6   expenses                   19788 non-null  float64\n",
      " 7   floor                      19788 non-null  float64\n",
      " 8   garden                     19788 non-null  bool   \n",
      " 9   n_bathrooms                19788 non-null  float64\n",
      " 10  elevator                   19788 non-null  float64\n",
      " 11  total_floors               19788 non-null  float64\n",
      " 12  n_rooms                    19788 non-null  float64\n",
      " 13  proximity_to_center        19788 non-null  float64\n",
      " 14  surface                    19788 non-null  float64\n",
      " 15  Buono stato / Abitabile    19788 non-null  int32  \n",
      " 16  Da ristrutturare           19788 non-null  int32  \n",
      " 17  Nuovo / Nuova costruzione  19788 non-null  int32  \n",
      " 18  Ottimo / Ristrutturato     19788 non-null  int32  \n",
      " 19  floor_relative             19788 non-null  float64\n",
      " 20  garden_with_surface        19788 non-null  float64\n",
      " 21  surface_per_rooms          19788 non-null  float64\n",
      "dtypes: bool(2), float64(15), int32(4), int64(1)\n",
      "memory usage: 2.8 MB\n"
     ]
    }
   ],
   "source": [
    "test.info()"
   ]
  },
  {
   "cell_type": "code",
   "execution_count": 392,
   "id": "9ccf4ed6",
   "metadata": {},
   "outputs": [
    {
     "name": "stdout",
     "output_type": "stream",
     "text": [
      "<class 'pandas.core.frame.DataFrame'>\n",
      "Int64Index: 46308 entries, 0 to 46311\n",
      "Data columns (total 22 columns):\n",
      " #   Column                     Non-Null Count  Dtype  \n",
      "---  ------                     --------------  -----  \n",
      " 0   price                      46308 non-null  int64  \n",
      " 1   balcony                    46308 non-null  int32  \n",
      " 2   construction_year          46308 non-null  float64\n",
      " 3   latitude                   46308 non-null  float64\n",
      " 4   longitude                  46308 non-null  float64\n",
      " 5   energy_efficiency          46308 non-null  float64\n",
      " 6   expenses                   46308 non-null  float64\n",
      " 7   floor                      46308 non-null  float64\n",
      " 8   garden                     46308 non-null  int32  \n",
      " 9   n_bathrooms                46308 non-null  float64\n",
      " 10  elevator                   46308 non-null  float64\n",
      " 11  total_floors               46308 non-null  float64\n",
      " 12  n_rooms                    46308 non-null  float64\n",
      " 13  proximity_to_center        46308 non-null  float64\n",
      " 14  surface                    46308 non-null  float64\n",
      " 15  Buono stato / Abitabile    46308 non-null  int32  \n",
      " 16  Da ristrutturare           46308 non-null  int32  \n",
      " 17  Nuovo / Nuova costruzione  46308 non-null  int32  \n",
      " 18  Ottimo / Ristrutturato     46308 non-null  int32  \n",
      " 19  floor_relative             46308 non-null  float64\n",
      " 20  garden_with_surface        46308 non-null  float64\n",
      " 21  surface_per_rooms          46308 non-null  float64\n",
      "dtypes: float64(15), int32(6), int64(1)\n",
      "memory usage: 8.1 MB\n"
     ]
    }
   ],
   "source": [
    "train.info()"
   ]
  },
  {
   "cell_type": "markdown",
   "id": "2d29a71b",
   "metadata": {},
   "source": [
    "# Regression"
   ]
  },
  {
   "cell_type": "code",
   "execution_count": 393,
   "id": "05791ec0",
   "metadata": {},
   "outputs": [],
   "source": [
    "id_col = test['id']\n",
    "test=test.drop('id', axis=1)\n",
    "from sklearn import metrics\n",
    "XX_test = test"
   ]
  },
  {
   "cell_type": "code",
   "execution_count": 394,
   "id": "855963b1",
   "metadata": {},
   "outputs": [],
   "source": [
    "Y_pred = regr.predict(XX_test)\n",
    "output = pd.DataFrame({'id': id_col, 'price': Y_pred})\n",
    "output.to_csv('output5.csv', index = False)"
   ]
  },
  {
   "cell_type": "code",
   "execution_count": 395,
   "id": "e08941c0",
   "metadata": {},
   "outputs": [
    {
     "data": {
      "text/plain": [
       "balcony                      0\n",
       "construction_year            0\n",
       "latitude                     0\n",
       "longitude                    0\n",
       "energy_efficiency            0\n",
       "expenses                     0\n",
       "floor                        0\n",
       "garden                       0\n",
       "n_bathrooms                  0\n",
       "elevator                     0\n",
       "total_floors                 0\n",
       "n_rooms                      0\n",
       "proximity_to_center          0\n",
       "surface                      0\n",
       "Buono stato / Abitabile      0\n",
       "Da ristrutturare             0\n",
       "Nuovo / Nuova costruzione    0\n",
       "Ottimo / Ristrutturato       0\n",
       "floor_relative               0\n",
       "garden_with_surface          0\n",
       "surface_per_rooms            0\n",
       "dtype: int64"
      ]
     },
     "execution_count": 395,
     "metadata": {},
     "output_type": "execute_result"
    }
   ],
   "source": [
    "test.isna().sum()"
   ]
  },
  {
   "cell_type": "code",
   "execution_count": 396,
   "id": "ecaeaafd",
   "metadata": {},
   "outputs": [
    {
     "name": "stdout",
     "output_type": "stream",
     "text": [
      "<class 'pandas.core.frame.DataFrame'>\n",
      "RangeIndex: 19788 entries, 0 to 19787\n",
      "Data columns (total 21 columns):\n",
      " #   Column                     Non-Null Count  Dtype  \n",
      "---  ------                     --------------  -----  \n",
      " 0   balcony                    19788 non-null  bool   \n",
      " 1   construction_year          19788 non-null  float64\n",
      " 2   latitude                   19788 non-null  float64\n",
      " 3   longitude                  19788 non-null  float64\n",
      " 4   energy_efficiency          19788 non-null  float64\n",
      " 5   expenses                   19788 non-null  float64\n",
      " 6   floor                      19788 non-null  float64\n",
      " 7   garden                     19788 non-null  bool   \n",
      " 8   n_bathrooms                19788 non-null  float64\n",
      " 9   elevator                   19788 non-null  float64\n",
      " 10  total_floors               19788 non-null  float64\n",
      " 11  n_rooms                    19788 non-null  float64\n",
      " 12  proximity_to_center        19788 non-null  float64\n",
      " 13  surface                    19788 non-null  float64\n",
      " 14  Buono stato / Abitabile    19788 non-null  int32  \n",
      " 15  Da ristrutturare           19788 non-null  int32  \n",
      " 16  Nuovo / Nuova costruzione  19788 non-null  int32  \n",
      " 17  Ottimo / Ristrutturato     19788 non-null  int32  \n",
      " 18  floor_relative             19788 non-null  float64\n",
      " 19  garden_with_surface        19788 non-null  float64\n",
      " 20  surface_per_rooms          19788 non-null  float64\n",
      "dtypes: bool(2), float64(15), int32(4)\n",
      "memory usage: 2.6 MB\n"
     ]
    }
   ],
   "source": [
    "test.info()"
   ]
  },
  {
   "cell_type": "code",
   "execution_count": 397,
   "id": "a477a5a2",
   "metadata": {},
   "outputs": [
    {
     "name": "stdout",
     "output_type": "stream",
     "text": [
      "<class 'pandas.core.frame.DataFrame'>\n",
      "Int64Index: 46308 entries, 0 to 46311\n",
      "Data columns (total 22 columns):\n",
      " #   Column                     Non-Null Count  Dtype  \n",
      "---  ------                     --------------  -----  \n",
      " 0   price                      46308 non-null  int64  \n",
      " 1   balcony                    46308 non-null  int32  \n",
      " 2   construction_year          46308 non-null  float64\n",
      " 3   latitude                   46308 non-null  float64\n",
      " 4   longitude                  46308 non-null  float64\n",
      " 5   energy_efficiency          46308 non-null  float64\n",
      " 6   expenses                   46308 non-null  float64\n",
      " 7   floor                      46308 non-null  float64\n",
      " 8   garden                     46308 non-null  int32  \n",
      " 9   n_bathrooms                46308 non-null  float64\n",
      " 10  elevator                   46308 non-null  float64\n",
      " 11  total_floors               46308 non-null  float64\n",
      " 12  n_rooms                    46308 non-null  float64\n",
      " 13  proximity_to_center        46308 non-null  float64\n",
      " 14  surface                    46308 non-null  float64\n",
      " 15  Buono stato / Abitabile    46308 non-null  int32  \n",
      " 16  Da ristrutturare           46308 non-null  int32  \n",
      " 17  Nuovo / Nuova costruzione  46308 non-null  int32  \n",
      " 18  Ottimo / Ristrutturato     46308 non-null  int32  \n",
      " 19  floor_relative             46308 non-null  float64\n",
      " 20  garden_with_surface        46308 non-null  float64\n",
      " 21  surface_per_rooms          46308 non-null  float64\n",
      "dtypes: float64(15), int32(6), int64(1)\n",
      "memory usage: 8.1 MB\n"
     ]
    }
   ],
   "source": [
    "train.info()"
   ]
  },
  {
   "cell_type": "code",
   "execution_count": null,
   "id": "0952ad0c",
   "metadata": {},
   "outputs": [],
   "source": []
  },
  {
   "cell_type": "code",
   "execution_count": null,
   "id": "6d4d19cd",
   "metadata": {},
   "outputs": [],
   "source": []
  }
 ],
 "metadata": {
  "kernelspec": {
   "display_name": "Python 3 (ipykernel)",
   "language": "python",
   "name": "python3"
  },
  "language_info": {
   "codemirror_mode": {
    "name": "ipython",
    "version": 3
   },
   "file_extension": ".py",
   "mimetype": "text/x-python",
   "name": "python",
   "nbconvert_exporter": "python",
   "pygments_lexer": "ipython3",
   "version": "3.9.12"
  }
 },
 "nbformat": 4,
 "nbformat_minor": 5
}
